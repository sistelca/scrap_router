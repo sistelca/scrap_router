{
 "cells": [
  {
   "cell_type": "code",
   "execution_count": 1,
   "metadata": {},
   "outputs": [],
   "source": [
    "import requests\n",
    "from urllib.parse import quote\n",
    "import base64\n",
    "import time\n",
    "from datetime import datetime"
   ]
  },
  {
   "cell_type": "code",
   "execution_count": 2,
   "metadata": {},
   "outputs": [],
   "source": [
    "class Ddwrt:\n",
    "    def __init__(self, username, password, host=\"192.168.0.1\"):\n",
    "        self._username = username\n",
    "        self._password = password\n",
    "        self._host = host\n",
    "\n",
    "    def _get_headers(self):\n",
    "        headers = {\n",
    "            'Referer': 'http://%s/Status_Wireless.asp' % self._host,\n",
    "            'Authorization': self._auth_header(),\n",
    "        }\n",
    "        return headers\n",
    "\n",
    "    def _auth_header(self):\n",
    "        auth_bytes = bytes(self._username+':'+self._password, 'utf-8')\n",
    "        auth_b64_bytes = base64.b64encode(auth_bytes)\n",
    "        auth_b64_str = str(auth_b64_bytes, 'utf-8')\n",
    "\n",
    "        auth_str = quote('Basic {}'.format(auth_b64_str))\n",
    "        return auth_str\n",
    "    \n"
   ]
  },
  {
   "cell_type": "code",
   "execution_count": 3,
   "metadata": {},
   "outputs": [],
   "source": [
    "bf = Ddwrt(\"casti\", \"AmE3024OT1esVlj63\", \"192.168.66.23\")"
   ]
  },
  {
   "cell_type": "code",
   "execution_count": 4,
   "metadata": {},
   "outputs": [
    {
     "data": {
      "text/plain": [
       "<__main__.Ddwrt at 0x7f735ae93340>"
      ]
     },
     "execution_count": 4,
     "metadata": {},
     "output_type": "execute_result"
    }
   ],
   "source": [
    "bf"
   ]
  }
 ],
 "metadata": {
  "kernelspec": {
   "display_name": "Python 3",
   "language": "python",
   "name": "python3"
  },
  "language_info": {
   "codemirror_mode": {
    "name": "ipython",
    "version": 3
   },
   "file_extension": ".py",
   "mimetype": "text/x-python",
   "name": "python",
   "nbconvert_exporter": "python",
   "pygments_lexer": "ipython3",
   "version": "3.8.5"
  }
 },
 "nbformat": 4,
 "nbformat_minor": 4
}
