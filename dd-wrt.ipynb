{
 "cells": [
  {
   "cell_type": "code",
   "execution_count": null,
   "metadata": {},
   "outputs": [],
   "source": [
    "import requests\n",
    "import re\n",
    "import mysql.connector\n",
    "from dotenv import load_dotenv\n",
    "\n",
    "load_dotenv()\n",
    "\n",
    "user_name = os.getenv(\"BFL_ID\")\n",
    "user_pasw = os.getenv(\"BFL_PW\")\n",
    "\n",
    "r = requests.get('http://192.168.66.5/Status_Wireless.asp', auth=(user_name, user_pasw))\n"
   ]
  },
  {
   "cell_type": "code",
   "execution_count": 14,
   "metadata": {},
   "outputs": [
    {
     "data": {
      "text/plain": [
       "['BC:FF:EB:2C:E8:FC',\n",
       " '9C:A9:E4:F5:D4:89',\n",
       " 'A8:C8:3A:7B:E5:B8',\n",
       " '9C:2A:83:75:E8:79',\n",
       " 'B8:AE:ED:40:60:9B',\n",
       " '50:C8:E5:C7:34:8B',\n",
       " '00:90:4C:8D:5E:4D']"
      ]
     },
     "execution_count": 14,
     "metadata": {},
     "output_type": "execute_result"
    }
   ],
   "source": [
    "def elimrep(a):\n",
    "    b = [a.count(x) for x in a]\n",
    "    c = [x[0] for x in zip(a, b) if x[1] == 1]\n",
    "    return c\n",
    "\n",
    "data = r.text\n",
    "p = re.compile(r'(?:[0-9a-fA-F]:?){12}')\n",
    "\n",
    "macs = []\n",
    "found = re.findall(p, data)\n",
    "for a in found:\n",
    "    macs.append(a)\n",
    "\n",
    "# las repetidas son la mac del router\n",
    "macs = elimrep(macs)\n",
    "macs"
   ]
  },
  {
   "cell_type": "code",
   "execution_count": 15,
   "metadata": {},
   "outputs": [],
   "source": [
    "sql_id = os.getenv(\"SQL_ID\")\n",
    "sql_pw = os.getenv(\"SQL_PW\")\n",
    "\n",
    "cnx = mysql.connector.connect(user=sql_id, password=sql_pw, host='127.0.0.1', database='clientes')\n",
    "cursor = cnx.cursor()"
   ]
  },
  {
   "cell_type": "code",
   "execution_count": 16,
   "metadata": {},
   "outputs": [
    {
     "name": "stdout",
     "output_type": "stream",
     "text": [
      "308 \t Jesus Marquina \t \t 2021-04-19 \t mac bc:ff:eb:2c:e8:fc\n",
      "307 \t Israel Villareal \t \t 2021-05-11 \t mac 9c:a9:e4:f5:d4:89\n",
      "439 \t Keily Cadenas \t \t 2021-05-10 \t mac 9c:2a:83:75:e8:79\n",
      "313 \t Jesus AvendaÃ±o \t \t 2021-05-11 \t mac b8:ae:ed:40:60:9b\n",
      "313 \t Jesus AvendaÃ±o \t \t 2021-05-11 \t mac 50:c8:e5:c7:34:8b\n"
     ]
    }
   ],
   "source": [
    "for l in macs:\n",
    "    query = (\"select datos_per.coduser, datos_per.nom_apell, datos_per.fech_ven, datos_red.dir_mac from datos_red, datos_per \"\n",
    "             \"where datos_per.coduser=datos_red.coduser and datos_red.dir_mac like  '%\"+l+\"%'\")\n",
    "\n",
    "    cursor.execute(query)\n",
    "    \n",
    "\n",
    "    for (coduser, nom_apell, fech_ven, dir_mac) in cursor:\n",
    "        print(\"{} \\t {} \\t \\t {} \\t mac {}\".format(coduser, nom_apell, fech_ven, dir_mac, l[2], l[3]))\n",
    "\n"
   ]
  },
  {
   "cell_type": "code",
   "execution_count": 18,
   "metadata": {},
   "outputs": [],
   "source": [
    "cursor.close()\n",
    "cnx.close()"
   ]
  },
  {
   "cell_type": "code",
   "execution_count": null,
   "metadata": {},
   "outputs": [],
   "source": [
    "q = requests.get('http://192.168.35.73', auth=('castillo', user_pasw))\n",
    "q"
   ]
  }
 ],
 "metadata": {
  "kernelspec": {
   "display_name": "Python 3",
   "language": "python",
   "name": "python3"
  },
  "language_info": {
   "codemirror_mode": {
    "name": "ipython",
    "version": 3
   },
   "file_extension": ".py",
   "mimetype": "text/x-python",
   "name": "python",
   "nbconvert_exporter": "python",
   "pygments_lexer": "ipython3",
   "version": "3.8.5"
  }
 },
 "nbformat": 4,
 "nbformat_minor": 4
}
