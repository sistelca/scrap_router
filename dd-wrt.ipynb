{
 "cells": [
  {
   "cell_type": "code",
   "execution_count": 8,
   "metadata": {},
   "outputs": [],
   "source": [
    "import requests\n",
    "from urllib.parse import quote\n",
    "import base64\n",
    "import time\n",
    "from datetime import datetime\n",
    "import json"
   ]
  },
  {
   "cell_type": "code",
   "execution_count": 20,
   "metadata": {},
   "outputs": [],
   "source": [
    "class Ddwrt:\n",
    "    def __init__(self, username, password, host=\"192.168.0.1\"):\n",
    "        self._username = username\n",
    "        self._password = password\n",
    "        self._host = host\n",
    "\n",
    "    def _get_headers(self):\n",
    "        headers = {\n",
    "            'Referer': 'http://%s/Status_Wireless.asp' % self._host,\n",
    "            'Authorization': self._auth_header(),\n",
    "        }\n",
    "        response = requests.get('http://192.168.66.4/Status_Wireless.asp')\n",
    "        return response\n",
    "\n",
    "    def _auth_header(self):\n",
    "        auth_bytes = bytes(self._username+':'+self._password, 'utf-8')\n",
    "        auth_b64_bytes = base64.b64encode(auth_bytes)\n",
    "        auth_b64_str = str(auth_b64_bytes, 'utf-8')\n",
    "\n",
    "        auth_str = quote('Basic {}'.format(auth_b64_str))\n",
    "        return auth_str\n",
    "    \n"
   ]
  },
  {
   "cell_type": "code",
   "execution_count": 21,
   "metadata": {},
   "outputs": [],
   "source": [
    "bf = Ddwrt(\"casti\", \"AmE3024OT1esVlj63\", \"192.168.66.4\")"
   ]
  },
  {
   "cell_type": "code",
   "execution_count": 22,
   "metadata": {},
   "outputs": [
    {
     "data": {
      "text/plain": [
       "<Response [401]>"
      ]
     },
     "execution_count": 22,
     "metadata": {},
     "output_type": "execute_result"
    }
   ],
   "source": [
    "bf._get_headers()"
   ]
  },
  {
   "cell_type": "code",
   "execution_count": 7,
   "metadata": {},
   "outputs": [
    {
     "name": "stdout",
     "output_type": "stream",
     "text": [
      "401\n"
     ]
    }
   ],
   "source": [
    "import json\n",
    "print(response.status_code)"
   ]
  }
 ],
 "metadata": {
  "kernelspec": {
   "display_name": "Python 3",
   "language": "python",
   "name": "python3"
  },
  "language_info": {
   "codemirror_mode": {
    "name": "ipython",
    "version": 3
   },
   "file_extension": ".py",
   "mimetype": "text/x-python",
   "name": "python",
   "nbconvert_exporter": "python",
   "pygments_lexer": "ipython3",
   "version": "3.7.3"
  }
 },
 "nbformat": 4,
 "nbformat_minor": 4
}
