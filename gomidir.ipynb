{
 "cells": [
  {
   "cell_type": "code",
   "execution_count": 1,
   "metadata": {},
   "outputs": [],
   "source": [
    "import json\n",
    "import base64\n",
    "import requests\n",
    "import re"
   ]
  },
  {
   "cell_type": "code",
   "execution_count": 4,
   "metadata": {},
   "outputs": [],
   "source": [
    "def leeactzl(user, repo_name, path_to_file):\n",
    "    json_url ='https://api.github.com/repos/{}/{}/contents/{}'.format(user, repo_name,\n",
    "                                                                      path_to_file)\n",
    "    response = requests.get(json_url) #get data from json file located at specified URL \n",
    "\n",
    "    if response.status_code == requests.codes.ok:\n",
    "        jsonResponse = response.json()  # the response is a JSON\n",
    "        #the JSON is encoded in base 64, hence decode it\n",
    "        content = base64.b64decode(jsonResponse['content'])\n",
    "        #convert the byte stream to string\n",
    "        jsonString = content.decode('utf-8')\n",
    "        try:\n",
    "            return json.loads(jsonString)\n",
    "        except:\n",
    "             return jsonString\n",
    " \n",
    "    else:\n",
    "        return 'Content was not found.'"
   ]
  },
  {
   "cell_type": "code",
   "execution_count": 5,
   "metadata": {},
   "outputs": [],
   "source": [
    "user = 'sistelca'\n",
    "repo_name = 'midir'\n",
    "path_to_file = 'ip.txt'\n",
    "\n",
    "dir_ip = leeactzl(user, repo_name, path_to_file)"
   ]
  },
  {
   "cell_type": "code",
   "execution_count": 6,
   "metadata": {},
   "outputs": [
    {
     "data": {
      "text/plain": [
       "'186.91.139.71'"
      ]
     },
     "execution_count": 6,
     "metadata": {},
     "output_type": "execute_result"
    }
   ],
   "source": [
    "ip = re.findall( r'[0-9]+(?:\\.[0-9]+){3}', dir_ip )\n",
    "ip[0]"
   ]
  },
  {
   "cell_type": "code",
   "execution_count": null,
   "metadata": {},
   "outputs": [],
   "source": []
  }
 ],
 "metadata": {
  "kernelspec": {
   "display_name": "Python 3",
   "language": "python",
   "name": "python3"
  },
  "language_info": {
   "codemirror_mode": {
    "name": "ipython",
    "version": 3
   },
   "file_extension": ".py",
   "mimetype": "text/x-python",
   "name": "python",
   "nbconvert_exporter": "python",
   "pygments_lexer": "ipython3",
   "version": "3.8.8"
  }
 },
 "nbformat": 4,
 "nbformat_minor": 2
}
