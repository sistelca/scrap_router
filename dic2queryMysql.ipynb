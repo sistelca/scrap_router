{
 "cells": [
  {
   "cell_type": "code",
   "execution_count": 141,
   "metadata": {},
   "outputs": [],
   "source": [
    "import mysql.connector\n",
    "from dotenv import load_dotenv\n",
    "import os\n",
    "import json\n",
    "import re"
   ]
  },
  {
   "cell_type": "code",
   "execution_count": 16,
   "metadata": {},
   "outputs": [],
   "source": [
    "load_dotenv()\n",
    "\n",
    "sql_id = os.getenv(\"SQL_ID\")\n",
    "sql_pw = os.getenv(\"SQL_PW\")"
   ]
  },
  {
   "cell_type": "code",
   "execution_count": 233,
   "metadata": {},
   "outputs": [],
   "source": [
    "def conexion(query):\n",
    "    try:\n",
    "        cnx = mysql.connector.connect(user=sql_id, password=sql_pw, host='127.0.0.1', database='clientes')\n",
    "        cursor = cnx.cursor()\n",
    "        seleccion = (query)\n",
    "        cursor.execute(seleccion)\n",
    "        cnx.commit()\n",
    "        return 'ok'\n",
    "    except:\n",
    "        cnx = mysql.connector.connect(user=sql_id, password=sql_pw, host='127.0.0.1', database='clientes')\n",
    "        cursor = cnx.cursor()\n",
    "        seleccion = (query)\n",
    "        cursor.execute(seleccion)\n",
    "        return list(cursor)"
   ]
  },
  {
   "cell_type": "code",
   "execution_count": 116,
   "metadata": {},
   "outputs": [],
   "source": [
    "def campos(fields):\n",
    "    cad = ''\n",
    "    for x in fields.keys():\n",
    "        cad += x + ' = ' + fields[x] + ', '\n",
    "    return cad[:-2]"
   ]
  },
  {
   "cell_type": "code",
   "execution_count": 234,
   "metadata": {},
   "outputs": [],
   "source": [
    "cursor = conexion(\"select * from Actzl\")\n",
    "\n",
    "for x in cursor:\n",
    "    dt_query = json.loads(x[2])\n",
    "    querys = []\n",
    "    \n",
    "    for y in dt_query.keys():\n",
    "        if dt_query[y]['op'] == 'UPDATE':\n",
    "            query  = str(dt_query[y]['op']) + ' ' + y + ' SET ' + campos(dt_query[y]['fields'])\n",
    "            query += ' WHERE '\n",
    "        elif dt_query[y]['op'] == 'INSERT INTO':\n",
    "            query  = query = str(dt_query[y]['op']) + ' ' + y\n",
    "            query += ' ' + str(tuple(list(dt_query[y]['fields'].keys())))+ ' VALUES '\n",
    "            query +=  str(tuple(list(dt_query[y]['fields'].values())))\n",
    "            query  = query.replace(\"'\", \"\")\n",
    "            filtro_update = 'coduser = ' + dt_query[y]['fields']['coduser']\n",
    "        \n",
    "        querys.append(query)\n",
    "        \n",
    "    break\n",
    "\n",
    "querys = [query + filtro_update if 'UPDATE' in query else query for query in querys]\n",
    "\n",
    "patron = re.compile('[0-9]{4}-[0-9]{2}-[0-9]{2}')\n",
    "\n",
    "for i, query in enumerate(querys):\n",
    "    for r in patron.findall(querys[i]):\n",
    "        querys[i] = querys[i].replace(r, \"'\" + r + \"'\") "
   ]
  },
  {
   "cell_type": "code",
   "execution_count": 235,
   "metadata": {},
   "outputs": [
    {
     "name": "stdout",
     "output_type": "stream",
     "text": [
      "UPDATE datos_red SET fech_pag = '2021-03-21' WHERE coduser = 347\n",
      "INSERT INTO histori_pags (coduser, fech_pag, cant_Bf, fech_venc) VALUES (347, '2021-04-05', 100000, '2021-04-21')\n",
      "UPDATE datos_per SET fech_ing = '2021-04-05', fech_ven = '2021-04-21' WHERE coduser = 347\n"
     ]
    }
   ],
   "source": [
    "for query in querys:\n",
    "    #ok = conexion(query)\n",
    "    print(query)"
   ]
  },
  {
   "cell_type": "code",
   "execution_count": 236,
   "metadata": {},
   "outputs": [
    {
     "name": "stdout",
     "output_type": "stream",
     "text": [
      "ok\n"
     ]
    }
   ],
   "source": [
    "query = \"UPDATE datos_red SET fech_pag = '2065-03-21' WHERE coduser = 347\"\n",
    "ok = conexion(query)\n",
    "print(ok)"
   ]
  }
 ],
 "metadata": {
  "kernelspec": {
   "display_name": "Python 3",
   "language": "python",
   "name": "python3"
  },
  "language_info": {
   "codemirror_mode": {
    "name": "ipython",
    "version": 3
   },
   "file_extension": ".py",
   "mimetype": "text/x-python",
   "name": "python",
   "nbconvert_exporter": "python",
   "pygments_lexer": "ipython3",
   "version": "3.8.5"
  }
 },
 "nbformat": 4,
 "nbformat_minor": 4
}
