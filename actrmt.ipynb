{
 "cells": [
  {
   "cell_type": "code",
   "execution_count": 5,
   "metadata": {},
   "outputs": [],
   "source": [
    "import mysql.connector\n",
    "import requests\n",
    "import base64\n",
    "from dotenv import load_dotenv\n",
    "import os\n",
    "import json\n",
    "import hashlib\n"
   ]
  },
  {
   "cell_type": "code",
   "execution_count": 17,
   "metadata": {},
   "outputs": [],
   "source": [
    "def leeactzl(user, repo_name, path_to_file):\n",
    "    json_url ='https://api.github.com/repos/{}/{}/contents/{}'.format(user, repo_name,\n",
    "                                                                      path_to_file)\n",
    "    response = requests.get(json_url) #get data from json file located at specified URL \n",
    "\n",
    "    if response.status_code == requests.codes.ok:\n",
    "        jsonResponse = response.json()  # the response is a JSON\n",
    "        #the JSON is encoded in base 64, hence decode it\n",
    "        content = base64.b64decode(jsonResponse['content'])\n",
    "        #convert the byte stream to string\n",
    "        jsonString = content.decode('utf-8')\n",
    "        try:\n",
    "            return json.loads(jsonString)\n",
    "        except:\n",
    "            jsonString = jsonString.replace('\\n', '')\n",
    "            return jsonString\n",
    " \n",
    "    else:\n",
    "        return 'Content was not found.'\n",
    "\n",
    "def conexion():\n",
    "    load_dotenv()\n",
    "\n",
    "    sql_id = os.getenv(\"SQL_ID\")\n",
    "    sql_pw = os.getenv(\"SQL_PW\")\n",
    "    sql_hs = os.getenv(\"SQL_HOST\")\n",
    "    sql_db = os.getenv(\"SQL_DB\")\n",
    "    cnx = mysql.connector.connect(user=sql_id, password=sql_pw, host=sql_hs, database=sql_db)\n",
    "    return cnx"
   ]
  },
  {
   "cell_type": "code",
   "execution_count": 16,
   "metadata": {},
   "outputs": [
    {
     "data": {
      "text/plain": [
       "'36d9c88f9f30c7c74afb9f91ea52315047eb2171  Desktop/resplientes.sql'"
      ]
     },
     "execution_count": 16,
     "metadata": {},
     "output_type": "execute_result"
    }
   ],
   "source": [
    "user = 'sistelca'\n",
    "repo_name = 'desechosSolidos'\n",
    "path_to_file = \"resplientes.sha1\"\n",
    "\n",
    "json_url ='https://api.github.com/repos/{}/{}/contents/{}'.format(user, repo_name,\n",
    "                                                                      path_to_file)\n",
    "response = requests.get(json_url)\n",
    "jsonResponse = response.json()\n",
    "content = base64.b64decode(jsonResponse['content'])\n",
    "jsonString = content.decode('utf-8')\n",
    "chsum = jsonString.split(' ')[0]\n",
    "chsum"
   ]
  },
  {
   "cell_type": "code",
   "execution_count": 35,
   "metadata": {},
   "outputs": [
    {
     "data": {
      "text/plain": [
       "0"
      ]
     },
     "execution_count": 35,
     "metadata": {},
     "output_type": "execute_result"
    }
   ],
   "source": [
    "import subprocess\n",
    "\n",
    "os.system(\"ls -l > ./prueba.txt\")"
   ]
  },
  {
   "cell_type": "code",
   "execution_count": null,
   "metadata": {},
   "outputs": [],
   "source": [
    "\n",
    "user = 'sistelca'\n",
    "repo_name = 'desechosSolidos'\n",
    "file_orig = \"cibercom_orig_data_actzl.json\"\n",
    "file_orig_check = \"cibercom_orig_data_actzl.cheqsum.txt\"\n",
    "file_dest_check = \"cibercom_dest_data_actzl.cheqsum.txt\"\n",
    "\n",
    "cheq_orig  = leeactzl(user, repo_name, file_orig_check)\n",
    "cheq_dest = leeactzl(user, repo_name, file_dest_check)\n",
    "\n",
    "\n",
    "if cheq_orig == cheq_dest:\n",
    "\n",
    "    cnx = conexion()\n",
    "    cursor = cnx.cursor()\n",
    "    query = (\"select * from Actzl where pasar=2\")\n",
    "    cursor.execute(query)\n",
    "    result = cursor.fetchall()\n",
    "\n",
    "    # sequence = cursor.column_names\n",
    "    # print(sequence)\n",
    "\n",
    "    datos = []\n",
    "    ides = []\n",
    "    for x in result:\n",
    "        datos.append({'fecha': str(x[1]), 'instruccion': x[2], 'firma': x[3]})\n",
    "        ides.append(x[0])\n",
    "\n",
    "    orig = json.dumps(datos)\n",
    "    check_orig = hashlib.sha1(orig.encode('utf-8')).hexdigest()\n",
    "\n",
    "    with open(file_orig, 'w', encoding = 'utf-8') as f:\n",
    "        json.dump(datos, f)\n",
    "\n",
    "    with open(file_orig_check, 'w', encoding = 'utf-8') as f:\n",
    "        f.write(check_orig)\n",
    "\n",
    "    for x in ides:\n",
    "        query = (\"UPDATE Actzl SET pasar=0 WHERE id = {}\").format(x)\n",
    "        cursor.execute(query)\n",
    "\n",
    "    cnx.commit()\n",
    "    cursor.close()\n",
    "    cnx.close()"
   ]
  }
 ],
 "metadata": {
  "kernelspec": {
   "display_name": "Python 3",
   "language": "python",
   "name": "python3"
  },
  "language_info": {
   "codemirror_mode": {
    "name": "ipython",
    "version": 3
   },
   "file_extension": ".py",
   "mimetype": "text/x-python",
   "name": "python",
   "nbconvert_exporter": "python",
   "pygments_lexer": "ipython3",
   "version": "3.8.5"
  }
 },
 "nbformat": 4,
 "nbformat_minor": 2
}
