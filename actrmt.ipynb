{
 "cells": [
  {
   "cell_type": "code",
   "execution_count": 3,
   "metadata": {},
   "outputs": [],
   "source": [
    "import mysql.connector\n",
    "from dotenv import load_dotenv\n",
    "import os\n",
    "import json\n",
    "import hashlib\n",
    "import requests\n"
   ]
  },
  {
   "cell_type": "code",
   "execution_count": 4,
   "metadata": {},
   "outputs": [],
   "source": [
    "def leeactzl(user, repo_name, path_to_file):\n",
    "    json_url ='https://api.github.com/repos/{}/{}/contents/{}'.format(user, repo_name,\n",
    "                                                                      path_to_file)\n",
    "    response = requests.get(json_url) #get data from json file located at specified URL \n",
    "\n",
    "    if response.status_code == requests.codes.ok:\n",
    "        jsonResponse = response.json()  # the response is a JSON\n",
    "        #the JSON is encoded in base 64, hence decode it\n",
    "        content = base64.b64decode(jsonResponse['content'])\n",
    "        #convert the byte stream to string\n",
    "        jsonString = content.decode('utf-8')\n",
    "        try:\n",
    "            return json.loads(jsonString)\n",
    "        except:\n",
    "             return jsonString\n",
    " \n",
    "    else:\n",
    "        return 'Content was not found.'\n",
    "\n",
    "\n",
    "def conexion():\n",
    "    load_dotenv()\n",
    "\n",
    "    sql_id = os.getenv(\"SQL_ID\")\n",
    "    sql_pw = os.getenv(\"SQL_PW\")\n",
    "    #sql_hs = os.getenv(\"SQL_HOST\")\n",
    "    sql_db = os.getenv(\"SQL_DB\")\n",
    "    cnx = mysql.connector.connect(user=sql_id, password=sql_pw, host='127.0.0.1', database=sql_db)\n",
    "    return cnx"
   ]
  },
  {
   "cell_type": "code",
   "execution_count": null,
   "metadata": {},
   "outputs": [],
   "source": [
    "cnx = conexion()\n",
    "cursor = cnx.cursor()\n",
    "query = (\"select * from Actzl where pasar=2\")\n",
    "cursor.execute(query)\n",
    "result = cursor.fetchall()\n",
    "\n",
    "# sequence = cursor.column_names\n",
    "# print(sequence)\n",
    "\n",
    "datos = []\n",
    "ides = []\n",
    "for x in result:\n",
    "    datos.append({'fecha': str(x[1]), 'instruccion': x[2], 'firma': x[3]})\n",
    "    ides.append(x[0])\n",
    "    \n",
    "if len(datos) > 0:\n",
    "    orig = json.dumps(datos)\n",
    "    check_orig = hashlib.sha1(orig.encode('utf-8')).hexdigest()\n",
    "\n",
    "    user = 'sistelca'\n",
    "    repo_name = 'desechosSolidos'\n",
    "    path = '/home/luis/desechosSolidos'\n",
    "    file_orig = \"orig_data.json\"\n",
    "    file_orig_check = \"orig_data.sha1\"\n",
    "    file_dest_check = \"dest_data.sha1\"\n",
    "\n",
    "    cheq_org  = leeactzl(user, repo_name, file_orig_check)\n",
    "    cheq_dest = leeactzl(user, repo_name, file_dest_check)\n",
    "\n",
    "    if check_orig != ch and  cheq_org == cheq_dest:\n",
    "        with open(os.path.join(path, file_orig), 'w', encoding = 'utf-8') as f:\n",
    "            json.dump(datos, f)\n",
    "\n",
    "        with open(os.path.join(path, file_orig_check), 'w', encoding = 'utf-8') as f:\n",
    "            f.write(check_orig)\n",
    "            \n",
    "        # hacer git\n",
    "\n",
    "        for x in ides:\n",
    "            query = (\"UPDATE Actzl SET pasar=0 WHERE id = {}\").format(x)\n",
    "            cursor.execute(query)\n",
    "\n",
    "cnx.commit()\n",
    "cursor.close()\n",
    "cnx.close()"
   ]
  },
  {
   "cell_type": "code",
   "execution_count": 15,
   "metadata": {},
   "outputs": [
    {
     "name": "stdout",
     "output_type": "stream",
     "text": [
      "d998492e308ecdb86aff973a3f10e00225f56bfe\n"
     ]
    }
   ],
   "source": [
    "cnx = conexion()\n",
    "cursor = cnx.cursor()\n",
    "query = \"\"\"select firma from Actzl order by reg_fecha desc limit 1\"\"\"\n",
    "cursor.execute(query)\n",
    "\n",
    "hash_ureg = cursor.fetchone()[0]\n",
    "\n",
    "cnx.commit()\n",
    "cursor.close()\n",
    "cnx.close()\n",
    "\n",
    "print(hash_ureg)"
   ]
  },
  {
   "cell_type": "code",
   "execution_count": 16,
   "metadata": {},
   "outputs": [
    {
     "data": {
      "text/plain": [
       "'UPDATE Actzl SET pasar=0 WHERE id = 1'"
      ]
     },
     "execution_count": 16,
     "metadata": {},
     "output_type": "execute_result"
    }
   ],
   "source": [
    "x = 1\n",
    "query = \"\"\"UPDATE Actzl SET pasar=0 WHERE id = {}\"\"\".format(x)\n",
    "query"
   ]
  }
 ],
 "metadata": {
  "kernelspec": {
   "display_name": "Python 3",
   "language": "python",
   "name": "python3"
  },
  "language_info": {
   "codemirror_mode": {
    "name": "ipython",
    "version": 3
   },
   "file_extension": ".py",
   "mimetype": "text/x-python",
   "name": "python",
   "nbconvert_exporter": "python",
   "pygments_lexer": "ipython3",
   "version": "3.8.8"
  }
 },
 "nbformat": 4,
 "nbformat_minor": 2
}
