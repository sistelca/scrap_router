{
 "cells": [
  {
   "cell_type": "code",
   "execution_count": 1,
   "metadata": {},
   "outputs": [],
   "source": [
    "import pandas as pd\n",
    "import numpy as np\n",
    "import matplotlib.pyplot as plt\n",
    "%matplotlib inline\n",
    "from datetime import datetime"
   ]
  },
  {
   "cell_type": "code",
   "execution_count": 10,
   "metadata": {},
   "outputs": [
    {
     "name": "stdout",
     "output_type": "stream",
     "text": [
      "(17, 4)\n"
     ]
    },
    {
     "data": {
      "text/html": [
       "<div>\n",
       "<style scoped>\n",
       "    .dataframe tbody tr th:only-of-type {\n",
       "        vertical-align: middle;\n",
       "    }\n",
       "\n",
       "    .dataframe tbody tr th {\n",
       "        vertical-align: top;\n",
       "    }\n",
       "\n",
       "    .dataframe thead th {\n",
       "        text-align: right;\n",
       "    }\n",
       "</style>\n",
       "<table border=\"1\" class=\"dataframe\">\n",
       "  <thead>\n",
       "    <tr style=\"text-align: right;\">\n",
       "      <th></th>\n",
       "      <th>timestamp</th>\n",
       "      <th>N_conx</th>\n",
       "      <th>b_reci</th>\n",
       "      <th>b_env</th>\n",
       "    </tr>\n",
       "  </thead>\n",
       "  <tbody>\n",
       "    <tr>\n",
       "      <th>12</th>\n",
       "      <td>1.612106e+09</td>\n",
       "      <td>24</td>\n",
       "      <td>2394387875</td>\n",
       "      <td>375796567</td>\n",
       "    </tr>\n",
       "    <tr>\n",
       "      <th>13</th>\n",
       "      <td>1.612106e+09</td>\n",
       "      <td>25</td>\n",
       "      <td>2396974713</td>\n",
       "      <td>387813406</td>\n",
       "    </tr>\n",
       "    <tr>\n",
       "      <th>14</th>\n",
       "      <td>1.612107e+09</td>\n",
       "      <td>26</td>\n",
       "      <td>2399275881</td>\n",
       "      <td>403059417</td>\n",
       "    </tr>\n",
       "    <tr>\n",
       "      <th>15</th>\n",
       "      <td>1.612107e+09</td>\n",
       "      <td>28</td>\n",
       "      <td>2401780234</td>\n",
       "      <td>415307216</td>\n",
       "    </tr>\n",
       "    <tr>\n",
       "      <th>16</th>\n",
       "      <td>1.612107e+09</td>\n",
       "      <td>28</td>\n",
       "      <td>2404372744</td>\n",
       "      <td>424187286</td>\n",
       "    </tr>\n",
       "  </tbody>\n",
       "</table>\n",
       "</div>"
      ],
      "text/plain": [
       "       timestamp  N_conx      b_reci      b_env\n",
       "12  1.612106e+09      24  2394387875  375796567\n",
       "13  1.612106e+09      25  2396974713  387813406\n",
       "14  1.612107e+09      26  2399275881  403059417\n",
       "15  1.612107e+09      28  2401780234  415307216\n",
       "16  1.612107e+09      28  2404372744  424187286"
      ]
     },
     "execution_count": 10,
     "metadata": {},
     "output_type": "execute_result"
    }
   ],
   "source": [
    "url=\"http://192.168.35.69/conex2tplink.txt\"\n",
    "df = pd.read_csv(url, sep='\\t')\n",
    "#df['momento'] = pd.to_datetime(df['Timestamp'], unit='s').apply(lambda x: x.strftime(\"%d/%m/%Y %H:%M:%S\"))\n",
    "\n",
    "print(df.shape)\n",
    "df.tail()"
   ]
  },
  {
   "cell_type": "code",
   "execution_count": 11,
   "metadata": {},
   "outputs": [
    {
     "data": {
      "text/plain": [
       "[<matplotlib.lines.Line2D at 0x8e2ee10>]"
      ]
     },
     "execution_count": 11,
     "metadata": {},
     "output_type": "execute_result"
    },
    {
     "data": {
      "image/png": "[encoded data removed]",
      "text/plain": [
       "<Figure size 1296x360 with 1 Axes>"
      ]
     },
     "metadata": {
      "needs_background": "light"
     },
     "output_type": "display_data"
    }
   ],
   "source": [
    "from matplotlib import rcParams\n",
    "rcParams['figure.figsize'] = 18, 5\n",
    "X = list(df.timestamp.values)\n",
    "Y = list(df.N_conx.values)\n",
    "Z = [10]*len(Y)\n",
    "Z1 = [df.N_conx.mean()]*len(Y)\n",
    "plt.plot(X, Y)\n",
    "plt.plot(X,Z)\n",
    "plt.plot(X,Z1)"
   ]
  },
  {
   "cell_type": "code",
   "execution_count": 9,
   "metadata": {},
   "outputs": [
    {
     "data": {
      "text/plain": [
       "20.980761008978195"
      ]
     },
     "execution_count": 9,
     "metadata": {},
     "output_type": "execute_result"
    }
   ],
   "source": [
    "df.Conx.mean()"
   ]
  },
  {
   "cell_type": "code",
   "execution_count": 23,
   "metadata": {},
   "outputs": [
    {
     "data": {
      "text/plain": [
       "0       27/01/2021, 20:51:07\n",
       "1       27/01/2021, 20:51:57\n",
       "2       27/01/2021, 20:52:47\n",
       "3       27/01/2021, 20:53:37\n",
       "4       27/01/2021, 20:54:27\n",
       "5       27/01/2021, 20:55:17\n",
       "6       27/01/2021, 20:56:07\n",
       "7       27/01/2021, 20:56:57\n",
       "8       27/01/2021, 20:57:47\n",
       "9       27/01/2021, 20:58:37\n",
       "10      27/01/2021, 20:59:27\n",
       "11      27/01/2021, 21:00:17\n",
       "12      27/01/2021, 21:01:07\n",
       "13      27/01/2021, 21:01:57\n",
       "14      27/01/2021, 21:02:48\n",
       "15      27/01/2021, 21:03:38\n",
       "16      27/01/2021, 21:04:28\n",
       "17      27/01/2021, 21:05:18\n",
       "18      27/01/2021, 21:06:08\n",
       "19      27/01/2021, 21:06:58\n",
       "20      27/01/2021, 21:07:48\n",
       "21      27/01/2021, 21:08:38\n",
       "22      27/01/2021, 21:09:28\n",
       "23      27/01/2021, 21:10:18\n",
       "24      27/01/2021, 21:11:08\n",
       "25      27/01/2021, 21:11:58\n",
       "26      27/01/2021, 21:12:48\n",
       "27      27/01/2021, 21:13:39\n",
       "28      27/01/2021, 21:14:29\n",
       "29      27/01/2021, 21:15:19\n",
       "                ...         \n",
       "4272    30/01/2021, 15:10:52\n",
       "4273    30/01/2021, 15:11:42\n",
       "4274    30/01/2021, 15:12:32\n",
       "4275    30/01/2021, 15:13:22\n",
       "4276    30/01/2021, 15:14:13\n",
       "4277    30/01/2021, 15:15:03\n",
       "4278    30/01/2021, 15:15:53\n",
       "4279    30/01/2021, 15:16:43\n",
       "4280    30/01/2021, 15:17:33\n",
       "4281    30/01/2021, 15:18:23\n",
       "4282    30/01/2021, 15:19:13\n",
       "4283    30/01/2021, 15:20:03\n",
       "4284    30/01/2021, 15:20:53\n",
       "4285    30/01/2021, 15:21:43\n",
       "4286    30/01/2021, 15:22:33\n",
       "4287    30/01/2021, 15:23:24\n",
       "4288    30/01/2021, 15:24:14\n",
       "4289    30/01/2021, 15:25:04\n",
       "4290    30/01/2021, 15:25:54\n",
       "4291    30/01/2021, 15:26:44\n",
       "4292    30/01/2021, 15:27:34\n",
       "4293    30/01/2021, 15:28:24\n",
       "4294    30/01/2021, 15:29:14\n",
       "4295    30/01/2021, 15:30:04\n",
       "4296    30/01/2021, 15:30:54\n",
       "4297    30/01/2021, 15:31:44\n",
       "4298    30/01/2021, 15:32:34\n",
       "4299    30/01/2021, 15:33:24\n",
       "4300    30/01/2021, 15:34:15\n",
       "4301    30/01/2021, 15:35:05\n",
       "Name: Timestamp, Length: 4302, dtype: object"
      ]
     },
     "execution_count": 23,
     "metadata": {},
     "output_type": "execute_result"
    }
   ],
   "source": [
    "pd.to_datetime(df['Timestamp'], unit='s').apply(lambda x: x.strftime(\"%d/%m/%Y, %H:%M:%S\"))"
   ]
  },
  {
   "cell_type": "code",
   "execution_count": null,
   "metadata": {},
   "outputs": [],
   "source": [
    "df.iloc[850]"
   ]
  }
 ],
 "metadata": {
  "kernelspec": {
   "display_name": "Python 3",
   "language": "python",
   "name": "python3"
  },
  "language_info": {
   "codemirror_mode": {
    "name": "ipython",
    "version": 3
   },
   "file_extension": ".py",
   "mimetype": "text/x-python",
   "name": "python",
   "nbconvert_exporter": "python",
   "pygments_lexer": "ipython3",
   "version": "3.7.3"
  }
 },
 "nbformat": 4,
 "nbformat_minor": 2
}
