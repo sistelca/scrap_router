{
 "cells": [
  {
   "cell_type": "code",
   "execution_count": 44,
   "metadata": {},
   "outputs": [],
   "source": [
    "from selenium import webdriver\n",
    "from bs4 import BeautifulSoup\n",
    "\n",
    "driver = webdriver.Chrome() #needs to be in your path, or you can specify here. \n",
    "driver.get('http://192.168.66.23') #whatever your ip is\n",
    "\n",
    "\n",
    "soup = BeautifulSoup(driver.page_source)\n",
    "driver.close()\n",
    "\n"
   ]
  },
  {
   "cell_type": "code",
   "execution_count": 45,
   "metadata": {},
   "outputs": [
    {
     "data": {
      "text/plain": [
       "['6F:9D', 'E0:E2', 'F4:D9']"
      ]
     },
     "execution_count": 45,
     "metadata": {},
     "output_type": "execute_result"
    }
   ],
   "source": [
    "cnxTable = soup.find('table', {'id': 'wireless_table'})\n",
    "\n",
    "rows  = cnxTable.findAll('tr')\n",
    "\n",
    "macs = []\n",
    "for row in rows:\n",
    "    cells = row.findAll('td')\n",
    "    if cells:\n",
    "        for cell in cells:\n",
    "            if 'xx:xx:xx:xx' in cell.text:\n",
    "                macs.append(cell.text[-5:])\n",
    "macs"
   ]
  },
  {
   "cell_type": "code",
   "execution_count": 31,
   "metadata": {},
   "outputs": [],
   "source": [
    "import mysql.connector\n",
    "from dotenv import load_dotenv\n",
    "import os"
   ]
  },
  {
   "cell_type": "code",
   "execution_count": 46,
   "metadata": {},
   "outputs": [],
   "source": [
    "load_dotenv()\n",
    "\n",
    "sql_id = os.getenv(\"SQL_ID\")\n",
    "sql_pw = os.getenv(\"SQL_PW\")\n",
    "\n",
    "cnx = mysql.connector.connect(user=sql_id, password=sql_pw, host='127.0.0.1', database='clientes')\n",
    "cursor = cnx.cursor()"
   ]
  },
  {
   "cell_type": "code",
   "execution_count": 47,
   "metadata": {},
   "outputs": [
    {
     "name": "stdout",
     "output_type": "stream",
     "text": [
      "467 \t Renzo Ramirez \t \t 2021-04-13 \t mac 14:5f:94:8b:6f:9d\n",
      "479 \t Gabriel Espitia \t \t 2021-04-23 \t mac ec:55:f9:54:f4:d9\n"
     ]
    }
   ],
   "source": [
    "for l in macs:\n",
    "    query = (\"select datos_per.coduser, datos_per.nom_apell, datos_per.fech_ven, datos_red.dir_mac from datos_red, datos_per \"\n",
    "             \"where datos_per.coduser=datos_red.coduser and datos_red.dir_mac like  '%\"+l+\"%'\")\n",
    "\n",
    "    cursor.execute(query)\n",
    "    \n",
    "\n",
    "    for (coduser, nom_apell, fech_ven, dir_mac) in cursor:\n",
    "        print(\"{} \\t {} \\t \\t {} \\t mac {}\".format(coduser, nom_apell, fech_ven, dir_mac, l[2], l[3]))\n",
    "\n",
    "cursor.close()\n",
    "cnx.close()\n"
   ]
  },
  {
   "cell_type": "code",
   "execution_count": 15,
   "metadata": {},
   "outputs": [],
   "source": [
    "import requests\n",
    "import re\n",
    "r = requests.get('http://192.168.66.5/Status_Wireless.asp', auth=('luis', 'AmE3024OT1esVlj63'))\n"
   ]
  },
  {
   "cell_type": "code",
   "execution_count": 23,
   "metadata": {},
   "outputs": [
    {
     "data": {
      "text/plain": [
       "['50:C8:E5:C7:34:8B', 'A8:C8:3A:7B:E5:B8']"
      ]
     },
     "execution_count": 23,
     "metadata": {},
     "output_type": "execute_result"
    }
   ],
   "source": [
    "def elimrep(a):\n",
    "    b = [a.count(x) for x in a]\n",
    "    c = [x[0] for x in zip(a, b) if x[1] == 1]\n",
    "    return c\n",
    "\n",
    "data = r.text\n",
    "p = re.compile(r'(?:[0-9a-fA-F]:?){12}')\n",
    "\n",
    "macs = []\n",
    "found = re.findall(p, data)\n",
    "for a in found:\n",
    "    macs.append(a)\n",
    "\n",
    "# las repetidas son la mac del router\n",
    "macs = elimrep(macs)\n",
    "macs"
   ]
  },
  {
   "cell_type": "code",
   "execution_count": null,
   "metadata": {},
   "outputs": [],
   "source": []
  }
 ],
 "metadata": {
  "kernelspec": {
   "display_name": "Python 3",
   "language": "python",
   "name": "python3"
  },
  "language_info": {
   "codemirror_mode": {
    "name": "ipython",
    "version": 3
   },
   "file_extension": ".py",
   "mimetype": "text/x-python",
   "name": "python",
   "nbconvert_exporter": "python",
   "pygments_lexer": "ipython3",
   "version": "3.8.5"
  }
 },
 "nbformat": 4,
 "nbformat_minor": 4
}
