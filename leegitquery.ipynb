{
 "cells": [
  {
   "cell_type": "code",
   "execution_count": 1,
   "metadata": {},
   "outputs": [],
   "source": [
    "import requests\n",
    "import base64\n",
    "import json\n",
    "import re\n",
    "import hashlib\n",
    "\n",
    "# import mysql.connector\n",
    "from dotenv import load_dotenv\n",
    "import os\n"
   ]
  },
  {
   "cell_type": "code",
   "execution_count": 6,
   "metadata": {},
   "outputs": [],
   "source": [
    "def campos(fields):\n",
    "    cad = ''\n",
    "    for x in fields.keys():\n",
    "        cad += x + ' = ' + fields[x] + ', '\n",
    "    return cad[:-2]\n",
    "\n",
    "def leeactzl(user, repo_name, path_to_file):\n",
    "    json_url ='https://api.github.com/repos/{}/{}/contents/{}'.format(user, repo_name,\n",
    "                                                                      path_to_file)\n",
    "    response = requests.get(json_url) #get data from json file located at specified URL \n",
    "\n",
    "    if response.status_code == requests.codes.ok:\n",
    "        jsonResponse = response.json()  # the response is a JSON\n",
    "        #the JSON is encoded in base 64, hence decode it\n",
    "        content = base64.b64decode(jsonResponse['content'])\n",
    "        #convert the byte stream to string\n",
    "        jsonString = content.decode('utf-8')\n",
    "        return json.loads(jsonString)\n",
    " \n",
    "    else:\n",
    "        return 'Content was not found.'\n",
    "    \n",
    "def calcquerys(finalJson):\n",
    "    \n",
    "    querys = []\n",
    "    for registro in finalJson:\n",
    "        #if registro['firma'] == hashlib.sha1(registro[\"instruccion\"].encode('utf-8')).hexdigest():\n",
    "        dt_query = json.loads(registro['instruccion'])\n",
    "\n",
    "        quetmp = []\n",
    "        for y in dt_query.keys():\n",
    "            if dt_query[y]['op'] == 'UPDATE':\n",
    "                query  = str(dt_query[y]['op']) + ' ' + y + ' SET ' + campos(dt_query[y]['fields'])\n",
    "                query += ' WHERE '\n",
    "            elif dt_query[y]['op'] == 'INSERT INTO':\n",
    "                query  = query = str(dt_query[y]['op']) + ' ' + y\n",
    "                query += ' ' + str(tuple(list(dt_query[y]['fields'].keys())))+ ' VALUES '\n",
    "                query +=  str(tuple(list(dt_query[y]['fields'].values())))\n",
    "                query  = query.replace(\"'\", \"\")\n",
    "                filtro_update = 'coduser = ' + dt_query[y]['fields']['coduser']\n",
    "            quetmp.append(query)\n",
    "\n",
    "        quetmp = [q + filtro_update if 'UPDATE' in q else q for q in quetmp]\n",
    "\n",
    "        querys.extend(quetmp)\n",
    "\n",
    "            #break # <--== Pilas quitar en produccion\n",
    "\n",
    "    \n",
    "    patron = re.compile('[0-9]{4}-[0-9]{2}-[0-9]{2}')\n",
    "\n",
    "    for i, query in enumerate(querys):\n",
    "        for r in patron.findall(querys[i]):\n",
    "            querys[i] = querys[i].replace(r, \"'\" + r + \"'\")\n",
    "\n",
    "    return querys\n",
    "\n",
    "def conexion(query):\n",
    "    try:\n",
    "        cnx = mysql.connector.connect(user=sql_id, password=sql_pw, host='127.0.0.1', database='clientes')\n",
    "        cursor = cnx.cursor()\n",
    "        seleccion = (query)\n",
    "        cursor.execute(seleccion)\n",
    "        cnx.commit()\n",
    "        return 'ok'\n",
    "    except:\n",
    "        cnx = mysql.connector.connect(user=sql_id, password=sql_pw, host='127.0.0.1', database='clientes')\n",
    "        cursor = cnx.cursor()\n",
    "        seleccion = (query)\n",
    "        cursor.execute(seleccion)\n",
    "        return list(cursor)"
   ]
  },
  {
   "cell_type": "code",
   "execution_count": 3,
   "metadata": {},
   "outputs": [],
   "source": [
    "user = 'sistelca'\n",
    "repo_name = 'desechosSolidos'\n",
    "path_to_file = 'data_actzl.json'\n",
    "\n",
    "finalJson = leeactzl(user, repo_name, path_to_file)\n"
   ]
  },
  {
   "cell_type": "code",
   "execution_count": 34,
   "metadata": {},
   "outputs": [
    {
     "name": "stdout",
     "output_type": "stream",
     "text": [
      "update datos_red set fech_pag='2021-05-05' where coduser='314'insert into histori_pags (coduser, fech_pag, cant_bf, fech_venc, anfit, cod) values (314, '2021-05-05', 200000, '2021-06-05', '192.168.45.221', '7d02d2bac5f8f7d69829b31a603d750e')update datos_per set fech_ing='2021-05-05', fech_ven='2021-06-05' where coduser='314'\n",
      "False\n",
      "update datos_red set fech_pag='2021-05-05' where coduser='410'insert into histori_pags (coduser, fech_pag, cant_bf, fech_venc, anfit, cod) values (410, '2021-05-05', 200000, '2021-06-05', '192.168.45.221', '7d02d2bac5f8f7d69829b31a603d750e')update datos_per set fech_ing='2021-05-05', fech_ven='2021-06-05' where coduser='410'\n",
      "False\n",
      "update datos_red set fech_pag='2021-05-05' where coduser='347'insert into histori_pags (coduser, fech_pag, cant_bf, fech_venc, anfit, cod) values (347, '2021-05-05', 200000, '2021-06-05', '192.168.45.64', '')update datos_per set fech_ing='2021-05-05', fech_ven='2021-06-05' where coduser='347'\n",
      "False\n",
      "update datos_red set fech_pag='2021-04-21' where coduser='235'insert into histori_pags (coduser, fech_pag, cant_bf, fech_venc, anfit, cod) values (235, '2021-05-06', 100000, '2021-05-22', '192.168.45.222', '211510b0154555d6cc9ff91d9fcbf1b1')update datos_per set fech_ing='2021-05-06', fech_ven='2021-05-22' where coduser='235'\n",
      "False\n",
      "update datos_red set fech_pag='2021-05-06' where coduser='270'insert into histori_pags (coduser, fech_pag, cant_bf, fech_venc, anfit, cod) values (270, '2021-05-06', 200000, '2021-06-06', '192.168.45.222', '211510b0154555d6cc9ff91d9fcbf1b1')update datos_per set fech_ing='2021-05-06', fech_ven='2021-06-06' where coduser='270'\n",
      "False\n"
     ]
    }
   ],
   "source": [
    "instrucions =  {'update': ['set', 'where'],\n",
    "                 'insert into': ['(', ') values'],\n",
    "                 'delete from': ['where', 'todo']\n",
    "               } \n",
    "\n",
    "for registro in finalJson:\n",
    "    #if registro['firma'] == hashlib.sha1(registro[\"instruccion\"].encode('utf-8')).hexdigest():\n",
    "    dt_query = json.loads(registro['instruccion'])\n",
    "    regq = ''\n",
    "    for y in dt_query.keys():\n",
    "        z = dt_query[y]\n",
    "        asi = z['op']\n",
    "        gna = instrucions[asi][0]\n",
    "        fl  = instrucions[asi][1]\n",
    "        regq += z['op'] +' ' + y + ' ' + gna + z['set'] + fl + z['filtro']\n",
    "    print(regq)\n",
    "    print(registro['firma'] == hashlib.sha1(regq.encode('utf-8')).hexdigest())\n",
    "    \n",
    "\n"
   ]
  },
  {
   "cell_type": "code",
   "execution_count": 4,
   "metadata": {},
   "outputs": [
    {
     "data": {
      "text/plain": [
       "[{'id': 1,\n",
       "  'fecha': '2021-05-05 07:13:57',\n",
       "  'instruccion': '{\"datos_red\":{\"op\":\"update\",\"set\":\" fech_pag=\\'2021-05-05\\' \",\"filtro\":\" coduser=\\'314\\'\"},\"histori_pags\":{\"op\":\"insert into\",\"set\":\"coduser, fech_pag, cant_bf, fech_venc, anfit, cod\",\"filtro\":\" (314, \\'2021-05-05\\', 200000, \\'2021-06-05\\', \\'192.168.45.221\\', \\'7d02d2bac5f8f7d69829b31a603d750e\\')\"},\"datos_per\":{\"op\":\"update\",\"set\":\" fech_ing=\\'2021-05-05\\', fech_ven=\\'2021-06-05\\' \",\"filtro\":\" coduser=\\'314\\'\"}}',\n",
       "  'firma': '93b95c9ed5f0abdd1ad10b56d13632964d58905d'},\n",
       " {'id': 2,\n",
       "  'fecha': '2021-05-05 08:08:24',\n",
       "  'instruccion': '{\"datos_red\":{\"op\":\"update\",\"set\":\" fech_pag=\\'2021-05-05\\' \",\"filtro\":\" coduser=\\'410\\'\"},\"histori_pags\":{\"op\":\"insert into\",\"set\":\"coduser, fech_pag, cant_bf, fech_venc, anfit, cod\",\"filtro\":\" (410, \\'2021-05-05\\', 200000, \\'2021-06-05\\', \\'192.168.45.221\\', \\'7d02d2bac5f8f7d69829b31a603d750e\\')\"},\"datos_per\":{\"op\":\"update\",\"set\":\" fech_ing=\\'2021-05-05\\', fech_ven=\\'2021-06-05\\' \",\"filtro\":\" coduser=\\'410\\'\"}}',\n",
       "  'firma': 'db9992deac2d8260c5e2db1edf645867e4c48244'},\n",
       " {'id': 3,\n",
       "  'fecha': '2021-05-05 12:22:00',\n",
       "  'instruccion': '{\"datos_red\":{\"op\":\"update\",\"set\":\" fech_pag=\\'2021-05-05\\' \",\"filtro\":\" coduser=\\'347\\'\"},\"histori_pags\":{\"op\":\"insert into\",\"set\":\"coduser, fech_pag, cant_bf, fech_venc, anfit, cod\",\"filtro\":\" (347, \\'2021-05-05\\', 200000, \\'2021-06-05\\', \\'192.168.45.64\\', \\'\\')\"},\"datos_per\":{\"op\":\"update\",\"set\":\" fech_ing=\\'2021-05-05\\', fech_ven=\\'2021-06-05\\' \",\"filtro\":\" coduser=\\'347\\'\"}}',\n",
       "  'firma': 'e0e55cff759a3623310088153bd35e2f4701ac5a'},\n",
       " {'id': 4,\n",
       "  'fecha': '2021-05-06 08:23:36',\n",
       "  'instruccion': '{\"datos_red\":{\"op\":\"update\",\"set\":\" fech_pag=\\'2021-04-21\\' \",\"filtro\":\" coduser=\\'235\\'\"},\"histori_pags\":{\"op\":\"insert into\",\"set\":\"coduser, fech_pag, cant_bf, fech_venc, anfit, cod\",\"filtro\":\" (235, \\'2021-05-06\\', 100000, \\'2021-05-22\\', \\'192.168.45.222\\', \\'211510b0154555d6cc9ff91d9fcbf1b1\\')\"},\"datos_per\":{\"op\":\"update\",\"set\":\" fech_ing=\\'2021-05-06\\', fech_ven=\\'2021-05-22\\' \",\"filtro\":\" coduser=\\'235\\'\"}}',\n",
       "  'firma': 'd243c208124549453399fef53223b3fe72845271'},\n",
       " {'id': 5,\n",
       "  'fecha': '2021-05-06 11:31:16',\n",
       "  'instruccion': '{\"datos_red\":{\"op\":\"update\",\"set\":\" fech_pag=\\'2021-05-06\\' \",\"filtro\":\" coduser=\\'270\\'\"},\"histori_pags\":{\"op\":\"insert into\",\"set\":\"coduser, fech_pag, cant_bf, fech_venc, anfit, cod\",\"filtro\":\" (270, \\'2021-05-06\\', 200000, \\'2021-06-06\\', \\'192.168.45.222\\', \\'211510b0154555d6cc9ff91d9fcbf1b1\\')\"},\"datos_per\":{\"op\":\"update\",\"set\":\" fech_ing=\\'2021-05-06\\', fech_ven=\\'2021-06-06\\' \",\"filtro\":\" coduser=\\'270\\'\"}}',\n",
       "  'firma': '48a1cfe99414e0959c62bf1fe13c67702ad3ac4e'}]"
      ]
     },
     "execution_count": 4,
     "metadata": {},
     "output_type": "execute_result"
    }
   ],
   "source": [
    "finalJson"
   ]
  },
  {
   "cell_type": "code",
   "execution_count": 40,
   "metadata": {},
   "outputs": [],
   "source": [
    "query1 = \"update datos_red set fech_pag = '2021-03-21' where coduser = 347\"\n",
    "query2 = \"insert into histori_pags (coduser, fech_pag, cant_Bf, fech_venc) values (347, '2021-04-05', 100000, '2021-04-21')\"\n",
    "query3 = \"update datos_per set fech_ing = '2021-04-05', fech_ven = '2021-04-21' where coduser = 347\"\n",
    "\n",
    "\n",
    "qs = query1+query2+query3"
   ]
  },
  {
   "cell_type": "code",
   "execution_count": 41,
   "metadata": {},
   "outputs": [
    {
     "data": {
      "text/plain": [
       "('7ebab62959c2e17a2ce7caa83c7a8812a0905896',\n",
       " '591a350d06438f0e13c4dbf65cec13164bd6a822')"
      ]
     },
     "execution_count": 41,
     "metadata": {},
     "output_type": "execute_result"
    }
   ],
   "source": [
    "qa = \"update datos_red set fech_pag = '2021-03-21' where coduser = 347insert into histori_pags (coduser, fech_pag, cant_bf, fech_venc) values (347, '2021-04-05', 100000, '2021-04-21')update datos_per set fech_ing = '2021-04-05', fech_ven = '2021-04-21' where coduser = 347\"\n",
    "\n",
    "hashlib.sha1(qs.encode('utf-8')).hexdigest(), hashlib.sha1(qa.encode('utf-8')).hexdigest(), "
   ]
  },
  {
   "cell_type": "code",
   "execution_count": 49,
   "metadata": {},
   "outputs": [
    {
     "name": "stdout",
     "output_type": "stream",
     "text": [
      "266 266\n"
     ]
    }
   ],
   "source": [
    "insert into histori_pags (coduser, fech_pag, cant_bf, fech_venc) values (347, '2021-04-05', 100000, '2021-04-21')\n",
    "insert into histori_pags (coduser, fech_pag, cant_Bf, fech_venc) values (347, '2021-04-05', 100000, '2021-04-21')"
   ]
  },
  {
   "cell_type": "code",
   "execution_count": 52,
   "metadata": {},
   "outputs": [
    {
     "data": {
      "text/plain": [
       "\"insert into histori_pags (coduser, fech_pag, cant_bf, fech_venc) values (347, '2021-04-05', 100000, '2021-04-21')\""
      ]
     },
     "execution_count": 52,
     "metadata": {},
     "output_type": "execute_result"
    }
   ],
   "source": [
    "tm = qa.replace(query1, '')\n",
    "tm = tm.replace(query3, '')\n",
    "tm\n"
   ]
  },
  {
   "cell_type": "code",
   "execution_count": 56,
   "metadata": {},
   "outputs": [
    {
     "data": {
      "text/plain": [
       "False"
      ]
     },
     "execution_count": 56,
     "metadata": {},
     "output_type": "execute_result"
    }
   ],
   "source": [
    "tm == query2"
   ]
  }
 ],
 "metadata": {
  "kernelspec": {
   "display_name": "Python 3",
   "language": "python",
   "name": "python3"
  },
  "language_info": {
   "codemirror_mode": {
    "name": "ipython",
    "version": 3
   },
   "file_extension": ".py",
   "mimetype": "text/x-python",
   "name": "python",
   "nbconvert_exporter": "python",
   "pygments_lexer": "ipython3",
   "version": "3.7.3"
  }
 },
 "nbformat": 4,
 "nbformat_minor": 2
}
