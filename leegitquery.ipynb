{
 "cells": [
  {
   "cell_type": "code",
   "execution_count": 37,
   "metadata": {},
   "outputs": [],
   "source": [
    "import requests\n",
    "import base64\n",
    "import json\n",
    "import re"
   ]
  },
  {
   "cell_type": "code",
   "execution_count": 39,
   "metadata": {},
   "outputs": [],
   "source": [
    "def campos(fields):\n",
    "    cad = ''\n",
    "    for x in fields.keys():\n",
    "        cad += x + ' = ' + fields[x] + ', '\n",
    "    return cad[:-2]\n",
    "\n",
    "def leeactzl(user, repo_name, path_to_file):\n",
    "    json_url ='https://api.github.com/repos/{}/{}/contents/{}'.format(user, repo_name,\n",
    "                                                                      path_to_file)\n",
    "    response = requests.get(json_url) #get data from json file located at specified URL \n",
    "\n",
    "    if response.status_code == requests.codes.ok:\n",
    "        jsonResponse = response.json()  # the response is a JSON\n",
    "        #the JSON is encoded in base 64, hence decode it\n",
    "        content = base64.b64decode(jsonResponse['content'])\n",
    "        #convert the byte stream to string\n",
    "        jsonString = content.decode('utf-8')\n",
    "        return json.loads(jsonString)\n",
    " \n",
    "    else:\n",
    "        return 'Content was not found.'\n",
    "    \n",
    "def calcquerys(finalJson):\n",
    "\n",
    "    for registro in finalJson:\n",
    "        if finalJson[0]['firma'] == hashlib.sha1(registro[\"instruccion\"].encode('utf-8')).hexdigest():\n",
    "            dt_query = json.loads(registro['instruccion'])\n",
    "            querys = []\n",
    "\n",
    "            for y in dt_query.keys():\n",
    "                if dt_query[y]['op'] == 'UPDATE':\n",
    "                    query  = str(dt_query[y]['op']) + ' ' + y + ' SET ' + campos(dt_query[y]['fields'])\n",
    "                    query += ' WHERE '\n",
    "                elif dt_query[y]['op'] == 'INSERT INTO':\n",
    "                    query  = query = str(dt_query[y]['op']) + ' ' + y\n",
    "                    query += ' ' + str(tuple(list(dt_query[y]['fields'].keys())))+ ' VALUES '\n",
    "                    query +=  str(tuple(list(dt_query[y]['fields'].values())))\n",
    "                    query  = query.replace(\"'\", \"\")\n",
    "                    filtro_update = 'coduser = ' + dt_query[y]['fields']['coduser']\n",
    "\n",
    "                querys.append(query)\n",
    "\n",
    "            break # <--== Pilas quitar en produccion\n",
    "\n",
    "    querys = [query + filtro_update if 'UPDATE' in query else query for query in querys]\n",
    "\n",
    "    patron = re.compile('[0-9]{4}-[0-9]{2}-[0-9]{2}')\n",
    "\n",
    "    for i, query in enumerate(querys):\n",
    "        for r in patron.findall(querys[i]):\n",
    "            querys[i] = querys[i].replace(r, \"'\" + r + \"'\")\n",
    "\n",
    "    return querys"
   ]
  },
  {
   "cell_type": "code",
   "execution_count": null,
   "metadata": {},
   "outputs": [],
   "source": [
    "user = 'sistelca'\n",
    "repo_name = 'desechosSolidos'\n",
    "path_to_file = 'data_actzl.json'\n",
    "\n",
    "finalJson = leeactzl(user, repo_name, path_to_file)\n"
   ]
  },
  {
   "cell_type": "code",
   "execution_count": 40,
   "metadata": {},
   "outputs": [
    {
     "name": "stdout",
     "output_type": "stream",
     "text": [
      "[\"UPDATE datos_red SET fech_pag = '2021-03-21' WHERE coduser = 347\", \"INSERT INTO histori_pags (coduser, fech_pag, cant_Bf, fech_venc) VALUES (347, '2021-04-05', 100000, '2021-04-21')\", \"UPDATE datos_per SET fech_ing = '2021-04-05', fech_ven = '2021-04-21' WHERE coduser = 347\"]\n"
     ]
    }
   ],
   "source": [
    "# Ojo hay que registrar el hash en db receptora para vefiricar que no este y ejecutar \n",
    "# query\n",
    "\n",
    "print(calcquerys(finalJson))\n"
   ]
  }
 ],
 "metadata": {
  "kernelspec": {
   "display_name": "Python 3",
   "language": "python",
   "name": "python3"
  },
  "language_info": {
   "codemirror_mode": {
    "name": "ipython",
    "version": 3
   },
   "file_extension": ".py",
   "mimetype": "text/x-python",
   "name": "python",
   "nbconvert_exporter": "python",
   "pygments_lexer": "ipython3",
   "version": "3.7.3"
  }
 },
 "nbformat": 4,
 "nbformat_minor": 2
}
