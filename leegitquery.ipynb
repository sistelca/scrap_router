{
 "cells": [
  {
   "cell_type": "code",
   "execution_count": 1,
   "metadata": {},
   "outputs": [],
   "source": [
    "import requests\n",
    "import base64\n",
    "import json\n",
    "import hashlib\n",
    "\n",
    "import mysql.connector\n",
    "from dotenv import load_dotenv\n",
    "import os\n"
   ]
  },
  {
   "cell_type": "code",
   "execution_count": 12,
   "metadata": {},
   "outputs": [],
   "source": [
    "def leeactzl(user, repo_name, path_to_file):\n",
    "    json_url ='https://api.github.com/repos/{}/{}/contents/{}'.format(user, repo_name,\n",
    "                                                                      path_to_file)\n",
    "    response = requests.get(json_url) #get data from json file located at specified URL \n",
    "\n",
    "    if response.status_code == requests.codes.ok:\n",
    "        jsonResponse = response.json()  # the response is a JSON\n",
    "        #the JSON is encoded in base 64, hence decode it\n",
    "        content = base64.b64decode(jsonResponse['content'])\n",
    "        #convert the byte stream to string\n",
    "        jsonString = content.decode('utf-8')\n",
    "        return json.loads(jsonString)\n",
    " \n",
    "    else:\n",
    "        return 'Content was not found.'\n",
    "    \n",
    "def calcquerys(dt_query):\n",
    "    \n",
    "    regq = ''\n",
    "    query = []\n",
    "\n",
    "    for y in dt_query.keys():\n",
    "        z = dt_query[y]\n",
    "        asi = z['op'].lower()\n",
    "        gna = instrucions[asi][0]\n",
    "        fl  = instrucions[asi][1]\n",
    "        regq += z['op'] +' ' + y + ' ' + gna + z['set'] + fl + z['filtro']\n",
    "        query.append(z['op'] +' ' + y + ' ' + gna.upper() + z['set'] + fl.upper() + z['filtro'])\n",
    "\n",
    "    return regq, query\n",
    "\n",
    "def conexion(querys):\n",
    "    \n",
    "    cnx = mysql.connector.connect(user=sql_id, password=sql_pw, host='127.0.0.1', database='clientes')\n",
    "    operation = ('; ').join(querys)\n",
    "    \n",
    "    try:\n",
    "        \n",
    "        cursor = cnx.cursor()\n",
    "        result_iterator = cursor.execute(operation, multi=True)\n",
    "        i = 0\n",
    "        \n",
    "        for res in result_iterator:\n",
    "            print(\"Running query: \", res)\n",
    "            print(f\"Affected {res.rowcount} rows\" )\n",
    "            i += 1\n",
    "            if i == len(querys): # evitar RuntimeError: \n",
    "                break # generator raised StopIteration\n",
    "        cnx.commit()\n",
    "        cnx.close()\n",
    "        return True\n",
    "    \n",
    "    except:\n",
    "        cnx.close()\n",
    "        return \"algo anda mal\"\n",
    "    \n",
    "def validacion(a, b):\n",
    "    return a == hashlib.sha1(b.lower().encode('utf-8')).hexdigest()"
   ]
  },
  {
   "cell_type": "code",
   "execution_count": 13,
   "metadata": {},
   "outputs": [],
   "source": [
    "user = 'sistelca'\n",
    "repo_name = 'desechosSolidos'\n",
    "path_to_file = 'data_actzl.json'\n",
    "\n",
    "finalJson = leeactzl(user, repo_name, path_to_file)\n"
   ]
  },
  {
   "cell_type": "code",
   "execution_count": 14,
   "metadata": {},
   "outputs": [
    {
     "name": "stdout",
     "output_type": "stream",
     "text": [
      "\n",
      " True\n",
      "UPDATE datos_red SET fech_pag='2021-04-25' WHERE coduser='293'\n",
      "INSERT INTO histori_pags (coduser, fech_pag, cant_Bf, fech_venc, anfit, cod) VALUES (293, '2021-05-10', 100000, '2021-05-26', '192.168.45.222', '962ad89f380951874518b9f027ef2a6f')\n",
      "UPDATE datos_per SET fech_ing='2021-05-10', fech_ven='2021-05-26' WHERE coduser='293'\n",
      "\n",
      " False\n",
      "UPDATE datos_red SETWHERE\n",
      "INSERT INTO histori_pags () VALUES\n",
      "UPDATE datos_per SETWHERE\n",
      "\n",
      " True\n",
      "UPDATE datos_red SET fech_pag='2021-04-28' WHERE coduser='415'\n",
      "INSERT INTO histori_pags (coduser, fech_pag, cant_Bf, fech_venc, anfit, cod) VALUES (415, '2021-05-13', 100000, '2021-05-29', '192.168.45.222', '')\n",
      "UPDATE datos_per SET fech_ing='2021-05-13', fech_ven='2021-05-29' WHERE coduser='415'\n",
      "\n",
      " True\n",
      "UPDATE datos_red SET fech_pag='2021-05-13' WHERE coduser='259'\n",
      "INSERT INTO histori_pags (coduser, fech_pag, cant_Bf, fech_venc, anfit, cod) VALUES (259, '2021-05-13', 200000, '2021-06-13', '192.168.45.224', '')\n",
      "UPDATE datos_per SET fech_ing='2021-05-13', fech_ven='2021-06-13' WHERE coduser='259'\n",
      "\n",
      " True\n",
      "UPDATE datos_red SET fech_pag='2021-05-13' WHERE coduser='309'\n",
      "INSERT INTO histori_pags (coduser, fech_pag, cant_Bf, fech_venc, anfit, cod) VALUES (309, '2021-05-13', 200000, '2021-06-13', '192.168.45.224', '')\n",
      "UPDATE datos_per SET fech_ing='2021-05-13', fech_ven='2021-06-13' WHERE coduser='309'\n",
      "\n",
      " True\n",
      "UPDATE datos_red SET fech_pag='2021-05-14' WHERE coduser='467'\n",
      "INSERT INTO histori_pags (coduser, fech_pag, cant_Bf, fech_venc, anfit, cod) VALUES (467, '2021-05-14', 200000, '2021-06-14', '192.168.45.224', '')\n",
      "UPDATE datos_per SET fech_ing='2021-05-14', fech_ven='2021-06-14' WHERE coduser='467'\n",
      "\n",
      " True\n",
      "UPDATE datos_red SET fech_pag='2021-05-14' WHERE coduser='299'\n",
      "INSERT INTO histori_pags (coduser, fech_pag, cant_Bf, fech_venc, anfit, cod) VALUES (299, '2021-05-14', 200000, '2021-06-14', '192.168.45.224', '')\n",
      "UPDATE datos_per SET fech_ing='2021-05-14', fech_ven='2021-06-14' WHERE coduser='299'\n",
      "\n",
      " True\n",
      "UPDATE datos_red SET fech_pag='2021-08-16' WHERE coduser='341'\n",
      "INSERT INTO histori_pags (coduser, fech_pag, cant_Bf, fech_venc, anfit, cod) VALUES (341, '2021-05-15', 100000, '2021-09-16', '192.168.45.221', '1')\n",
      "UPDATE datos_per SET fech_ing='2021-05-15', fech_ven='2021-09-16' WHERE coduser='341'\n",
      "\n",
      " True\n",
      "UPDATE datos_red SET fech_pag='2021-05-15' WHERE coduser='420'\n",
      "INSERT INTO histori_pags (coduser, fech_pag, cant_Bf, fech_venc, anfit, cod) VALUES (420, '2021-05-15', 200000, '2021-06-15', '192.168.45.222', '')\n",
      "UPDATE datos_per SET fech_ing='2021-05-15', fech_ven='2021-06-15' WHERE coduser='420'\n",
      "\n",
      " True\n",
      "UPDATE datos_red SET fech_pag='2021-05-15' WHERE coduser='271'\n",
      "INSERT INTO histori_pags (coduser, fech_pag, cant_Bf, fech_venc, anfit, cod) VALUES (271, '2021-05-15', 200000, '2021-06-15', '192.168.45.222', '')\n",
      "UPDATE datos_per SET fech_ing='2021-05-15', fech_ven='2021-06-15' WHERE coduser='271'\n"
     ]
    }
   ],
   "source": [
    "instrucions =  {'update': ['set', 'where'],\n",
    "                 'insert into': ['(', ') values'],\n",
    "                 'delete from': ['where', 'todo']\n",
    "               } \n",
    "\n",
    "for registro in finalJson:\n",
    "\n",
    "    dt_query = json.loads(registro['instruccion'])\n",
    "    fireg, querys = calcquerys(dt_query)\n",
    "    print('\\n', validacion(registro['firma'], fireg))\n",
    "    \n",
    "    for q in querys:\n",
    "        print(q)\n",
    "\n",
    "# tentativo para luego\n",
    "    if validacion(registro['firma'], fireg): # agregar condicion no se \n",
    "                                             # encuentra firma en Actzl local\n",
    "            \n",
    "        # agregar a querys, el query de Insert into Actzl bla bla bla\n",
    "        print(conexion(querys))"
   ]
  },
  {
   "cell_type": "code",
   "execution_count": 5,
   "metadata": {
    "scrolled": true
   },
   "outputs": [
    {
     "name": "stdout",
     "output_type": "stream",
     "text": [
      "UPDATE datos_red set fech_pag='2021-05-15' where coduser='271'\n",
      "INSERT INTO histori_pags (coduser, fech_pag, cant_Bf, fech_venc, anfit, cod) values (271, '2021-05-15', 200000, '2021-06-15', '192.168.45.222', '')\n",
      "UPDATE datos_per set fech_ing='2021-05-15', fech_ven='2021-06-15' where coduser='271'\n"
     ]
    }
   ],
   "source": [
    "load_dotenv()\n",
    "\n",
    "sql_id = os.getenv(\"SQL_ID\")\n",
    "sql_pw = os.getenv(\"SQL_PW\")\n",
    "\n",
    "for q in querys:\n",
    "    print(q)\n"
   ]
  },
  {
   "cell_type": "code",
   "execution_count": 6,
   "metadata": {},
   "outputs": [],
   "source": [
    "querys = [\"UPDATE datos_red set fech_pag='2021-05-15' where coduser='271'\",\n",
    " \"INSERT INTO histori_pags (coduser, fech_pag, cant_Bf, fech_venc, anfit, cod) values (271, '2021-05-15', 200000, '2021-06-15', '192.168.45.222', '1')\",\n",
    " \"UPDATE datos_per set fech_ing='2021-05-15', fech_ven='2021-06-15' where coduser='271'\"]"
   ]
  },
  {
   "cell_type": "code",
   "execution_count": 7,
   "metadata": {
    "scrolled": true
   },
   "outputs": [
    {
     "name": "stdout",
     "output_type": "stream",
     "text": [
      "Running query:  MySQLCursor: UPDATE datos_red set fech_pag='2021-05-1..\n",
      "Affected 2 rows\n",
      "Running query:  MySQLCursor: INSERT INTO histori_pags (coduser, fech_..\n",
      "Affected 1 rows\n",
      "Running query:  MySQLCursor: UPDATE datos_per set fech_ing='2021-05-1..\n",
      "Affected 1 rows\n",
      "True\n"
     ]
    }
   ],
   "source": [
    "print(conexion(querys))"
   ]
  },
  {
   "cell_type": "code",
   "execution_count": 15,
   "metadata": {},
   "outputs": [
    {
     "data": {
      "text/plain": [
       "[{'id': 1,\n",
       "  'fecha': '2021-05-10 11:36:18',\n",
       "  'instruccion': '{\"datos_red\":{\"op\":\"UPDATE\",\"set\":\" fech_pag=\\'2021-04-25\\' \",\"filtro\":\" coduser=\\'293\\'\"},\"histori_pags\":{\"op\":\"INSERT INTO\",\"set\":\"coduser, fech_pag, cant_Bf, fech_venc, anfit, cod\",\"filtro\":\" (293, \\'2021-05-10\\', 100000, \\'2021-05-26\\', \\'192.168.45.222\\', \\'962ad89f380951874518b9f027ef2a6f\\')\"},\"datos_per\":{\"op\":\"UPDATE\",\"set\":\" fech_ing=\\'2021-05-10\\', fech_ven=\\'2021-05-26\\' \",\"filtro\":\" coduser=\\'293\\'\"}}',\n",
       "  'firma': '811fbec072f1fb1f1aeeb0dad6f00d2246a37734'},\n",
       " {'id': 2,\n",
       "  'fecha': '2021-05-12 10:39:26',\n",
       "  'instruccion': '{\"datos_red\":{\"op\":\"UPDATE\",\"set\":\"\",\"filtro\":\"\"},\"histori_pags\":{\"op\":\"INSERT INTO\",\"set\":\"\",\"filtro\":\"\"},\"datos_per\":{\"op\":\"UPDATE\",\"set\":\"\",\"filtro\":\"\"}}',\n",
       "  'firma': 'f89bd86bf1d39cc48b18e963e3b2127d9f4e363a'},\n",
       " {'id': 3,\n",
       "  'fecha': '2021-05-13 11:16:35',\n",
       "  'instruccion': '{\"datos_red\":{\"op\":\"UPDATE\",\"set\":\" fech_pag=\\'2021-04-28\\' \",\"filtro\":\" coduser=\\'415\\'\"},\"histori_pags\":{\"op\":\"INSERT INTO\",\"set\":\"coduser, fech_pag, cant_Bf, fech_venc, anfit, cod\",\"filtro\":\" (415, \\'2021-05-13\\', 100000, \\'2021-05-29\\', \\'192.168.45.222\\', \\'\\')\"},\"datos_per\":{\"op\":\"UPDATE\",\"set\":\" fech_ing=\\'2021-05-13\\', fech_ven=\\'2021-05-29\\' \",\"filtro\":\" coduser=\\'415\\'\"}}',\n",
       "  'firma': 'b2d3944d352449c11c63f98d554a1f58e2abbfe6'},\n",
       " {'id': 4,\n",
       "  'fecha': '2021-05-13 12:20:17',\n",
       "  'instruccion': '{\"datos_red\":{\"op\":\"UPDATE\",\"set\":\" fech_pag=\\'2021-05-13\\' \",\"filtro\":\" coduser=\\'259\\'\"},\"histori_pags\":{\"op\":\"INSERT INTO\",\"set\":\"coduser, fech_pag, cant_Bf, fech_venc, anfit, cod\",\"filtro\":\" (259, \\'2021-05-13\\', 200000, \\'2021-06-13\\', \\'192.168.45.224\\', \\'\\')\"},\"datos_per\":{\"op\":\"UPDATE\",\"set\":\" fech_ing=\\'2021-05-13\\', fech_ven=\\'2021-06-13\\' \",\"filtro\":\" coduser=\\'259\\'\"}}',\n",
       "  'firma': 'd8c2793aea82a1d2559d76ee74a88a429ffc654b'},\n",
       " {'id': 5,\n",
       "  'fecha': '2021-05-13 15:20:39',\n",
       "  'instruccion': '{\"datos_red\":{\"op\":\"UPDATE\",\"set\":\" fech_pag=\\'2021-05-13\\' \",\"filtro\":\" coduser=\\'309\\'\"},\"histori_pags\":{\"op\":\"INSERT INTO\",\"set\":\"coduser, fech_pag, cant_Bf, fech_venc, anfit, cod\",\"filtro\":\" (309, \\'2021-05-13\\', 200000, \\'2021-06-13\\', \\'192.168.45.224\\', \\'\\')\"},\"datos_per\":{\"op\":\"UPDATE\",\"set\":\" fech_ing=\\'2021-05-13\\', fech_ven=\\'2021-06-13\\' \",\"filtro\":\" coduser=\\'309\\'\"}}',\n",
       "  'firma': '876646b64645da21c039d31f00f24b1fdbf5fecf'},\n",
       " {'id': 6,\n",
       "  'fecha': '2021-05-14 16:48:05',\n",
       "  'instruccion': '{\"datos_red\":{\"op\":\"UPDATE\",\"set\":\" fech_pag=\\'2021-05-14\\' \",\"filtro\":\" coduser=\\'467\\'\"},\"histori_pags\":{\"op\":\"INSERT INTO\",\"set\":\"coduser, fech_pag, cant_Bf, fech_venc, anfit, cod\",\"filtro\":\" (467, \\'2021-05-14\\', 200000, \\'2021-06-14\\', \\'192.168.45.224\\', \\'\\')\"},\"datos_per\":{\"op\":\"UPDATE\",\"set\":\" fech_ing=\\'2021-05-14\\', fech_ven=\\'2021-06-14\\' \",\"filtro\":\" coduser=\\'467\\'\"}}',\n",
       "  'firma': '98a49197f57943ec64d3ddb4d72876148ed6b6c8'},\n",
       " {'id': 7,\n",
       "  'fecha': '2021-05-14 17:54:09',\n",
       "  'instruccion': '{\"datos_red\":{\"op\":\"UPDATE\",\"set\":\" fech_pag=\\'2021-05-14\\' \",\"filtro\":\" coduser=\\'299\\'\"},\"histori_pags\":{\"op\":\"INSERT INTO\",\"set\":\"coduser, fech_pag, cant_Bf, fech_venc, anfit, cod\",\"filtro\":\" (299, \\'2021-05-14\\', 200000, \\'2021-06-14\\', \\'192.168.45.224\\', \\'\\')\"},\"datos_per\":{\"op\":\"UPDATE\",\"set\":\" fech_ing=\\'2021-05-14\\', fech_ven=\\'2021-06-14\\' \",\"filtro\":\" coduser=\\'299\\'\"}}',\n",
       "  'firma': 'cc3cf39f0acc9d5c61e1834566404e2827b8f4aa'},\n",
       " {'id': 8,\n",
       "  'fecha': '2021-05-15 04:40:22',\n",
       "  'instruccion': '{\"datos_red\":{\"op\":\"UPDATE\",\"set\":\" fech_pag=\\'2021-08-16\\' \",\"filtro\":\" coduser=\\'341\\'\"},\"histori_pags\":{\"op\":\"INSERT INTO\",\"set\":\"coduser, fech_pag, cant_Bf, fech_venc, anfit, cod\",\"filtro\":\" (341, \\'2021-05-15\\', 100000, \\'2021-09-16\\', \\'192.168.45.221\\', \\'1\\')\"},\"datos_per\":{\"op\":\"UPDATE\",\"set\":\" fech_ing=\\'2021-05-15\\', fech_ven=\\'2021-09-16\\' \",\"filtro\":\" coduser=\\'341\\'\"}}',\n",
       "  'firma': 'fecfd276ad70e2ac7778253bfe792820ce38c4c8'},\n",
       " {'id': 9,\n",
       "  'fecha': '2021-05-15 09:28:58',\n",
       "  'instruccion': '{\"datos_red\":{\"op\":\"UPDATE\",\"set\":\" fech_pag=\\'2021-05-15\\' \",\"filtro\":\" coduser=\\'420\\'\"},\"histori_pags\":{\"op\":\"INSERT INTO\",\"set\":\"coduser, fech_pag, cant_Bf, fech_venc, anfit, cod\",\"filtro\":\" (420, \\'2021-05-15\\', 200000, \\'2021-06-15\\', \\'192.168.45.222\\', \\'\\')\"},\"datos_per\":{\"op\":\"UPDATE\",\"set\":\" fech_ing=\\'2021-05-15\\', fech_ven=\\'2021-06-15\\' \",\"filtro\":\" coduser=\\'420\\'\"}}',\n",
       "  'firma': 'e8fb30238bb7f23ee73778a40a9bd94bd1ac03c3'},\n",
       " {'id': 10,\n",
       "  'fecha': '2021-05-15 11:42:31',\n",
       "  'instruccion': '{\"datos_red\":{\"op\":\"UPDATE\",\"set\":\" fech_pag=\\'2021-05-15\\' \",\"filtro\":\" coduser=\\'271\\'\"},\"histori_pags\":{\"op\":\"INSERT INTO\",\"set\":\"coduser, fech_pag, cant_Bf, fech_venc, anfit, cod\",\"filtro\":\" (271, \\'2021-05-15\\', 200000, \\'2021-06-15\\', \\'192.168.45.222\\', \\'\\')\"},\"datos_per\":{\"op\":\"UPDATE\",\"set\":\" fech_ing=\\'2021-05-15\\', fech_ven=\\'2021-06-15\\' \",\"filtro\":\" coduser=\\'271\\'\"}}',\n",
       "  'firma': '39ffa2c6f8bf7d77ff236ad939c76cb47b7952d0'}]"
      ]
     },
     "execution_count": 15,
     "metadata": {},
     "output_type": "execute_result"
    }
   ],
   "source": [
    "finalJson"
   ]
  }
 ],
 "metadata": {
  "kernelspec": {
   "display_name": "Python 3",
   "language": "python",
   "name": "python3"
  },
  "language_info": {
   "codemirror_mode": {
    "name": "ipython",
    "version": 3
   },
   "file_extension": ".py",
   "mimetype": "text/x-python",
   "name": "python",
   "nbconvert_exporter": "python",
   "pygments_lexer": "ipython3",
   "version": "3.8.5"
  }
 },
 "nbformat": 4,
 "nbformat_minor": 2
}
