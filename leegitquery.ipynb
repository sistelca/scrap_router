{
 "cells": [
  {
   "cell_type": "code",
   "execution_count": 1,
   "metadata": {},
   "outputs": [],
   "source": [
    "import requests\n",
    "import base64\n",
    "import json\n",
    "import re\n",
    "import hashlib\n",
    "\n",
    "import mysql.connector\n",
    "from dotenv import load_dotenv\n",
    "import os\n"
   ]
  },
  {
   "cell_type": "code",
   "execution_count": 2,
   "metadata": {},
   "outputs": [],
   "source": [
    "def campos(fields):\n",
    "    cad = ''\n",
    "    for x in fields.keys():\n",
    "        cad += x + ' = ' + fields[x] + ', '\n",
    "    return cad[:-2]\n",
    "\n",
    "def leeactzl(user, repo_name, path_to_file):\n",
    "    json_url ='https://api.github.com/repos/{}/{}/contents/{}'.format(user, repo_name,\n",
    "                                                                      path_to_file)\n",
    "    response = requests.get(json_url) #get data from json file located at specified URL \n",
    "\n",
    "    if response.status_code == requests.codes.ok:\n",
    "        jsonResponse = response.json()  # the response is a JSON\n",
    "        #the JSON is encoded in base 64, hence decode it\n",
    "        content = base64.b64decode(jsonResponse['content'])\n",
    "        #convert the byte stream to string\n",
    "        jsonString = content.decode('utf-8')\n",
    "        return json.loads(jsonString)\n",
    " \n",
    "    else:\n",
    "        return 'Content was not found.'\n",
    "    \n",
    "def calcquerys(finalJson):\n",
    "    \n",
    "    querys = []\n",
    "    for registro in finalJson:\n",
    "        if registro['firma'] == hashlib.sha1(registro[\"instruccion\"].encode('utf-8')).hexdigest():\n",
    "            dt_query = json.loads(registro['instruccion'])\n",
    "            \n",
    "            quetmp = []\n",
    "            for y in dt_query.keys():\n",
    "                if dt_query[y]['op'] == 'UPDATE':\n",
    "                    query  = str(dt_query[y]['op']) + ' ' + y + ' SET ' + campos(dt_query[y]['fields'])\n",
    "                    query += ' WHERE '\n",
    "                elif dt_query[y]['op'] == 'INSERT INTO':\n",
    "                    query  = query = str(dt_query[y]['op']) + ' ' + y\n",
    "                    query += ' ' + str(tuple(list(dt_query[y]['fields'].keys())))+ ' VALUES '\n",
    "                    query +=  str(tuple(list(dt_query[y]['fields'].values())))\n",
    "                    query  = query.replace(\"'\", \"\")\n",
    "                    filtro_update = 'coduser = ' + dt_query[y]['fields']['coduser']\n",
    "                quetmp.append(query)\n",
    "                \n",
    "            quetmp = [q + filtro_update if 'UPDATE' in q else q for q in quetmp]\n",
    "\n",
    "            querys.extend(quetmp)\n",
    "\n",
    "            #break # <--== Pilas quitar en produccion\n",
    "\n",
    "    \n",
    "    patron = re.compile('[0-9]{4}-[0-9]{2}-[0-9]{2}')\n",
    "\n",
    "    for i, query in enumerate(querys):\n",
    "        for r in patron.findall(querys[i]):\n",
    "            querys[i] = querys[i].replace(r, \"'\" + r + \"'\")\n",
    "\n",
    "    return querys\n",
    "\n",
    "def conexion(query):\n",
    "    try:\n",
    "        cnx = mysql.connector.connect(user=sql_id, password=sql_pw, host='127.0.0.1', database='clientes')\n",
    "        cursor = cnx.cursor()\n",
    "        seleccion = (query)\n",
    "        cursor.execute(seleccion)\n",
    "        cnx.commit()\n",
    "        return 'ok'\n",
    "    except:\n",
    "        cnx = mysql.connector.connect(user=sql_id, password=sql_pw, host='127.0.0.1', database='clientes')\n",
    "        cursor = cnx.cursor()\n",
    "        seleccion = (query)\n",
    "        cursor.execute(seleccion)\n",
    "        return list(cursor)"
   ]
  },
  {
   "cell_type": "code",
   "execution_count": 3,
   "metadata": {},
   "outputs": [],
   "source": [
    "user = 'sistelca'\n",
    "repo_name = 'desechosSolidos'\n",
    "path_to_file = 'data_actzl.json'\n",
    "\n",
    "finalJson = leeactzl(user, repo_name, path_to_file)\n"
   ]
  },
  {
   "cell_type": "code",
   "execution_count": 50,
   "metadata": {},
   "outputs": [
    {
     "name": "stdout",
     "output_type": "stream",
     "text": [
      "UPDATE datos_red SET fech_pag = '2021-03-21' WHERE coduser = 347\n",
      "INSERT INTO histori_pags (coduser, fech_pag, cant_Bf, fech_venc) VALUES (347, '2021-04-05', 100000, '2021-04-21')\n",
      "UPDATE datos_per SET fech_ing = '2021-04-05', fech_ven = '2021-04-21' WHERE coduser = 347\n",
      "UPDATE datos_red SET fech_pag = '2021-03-22' WHERE coduser = 473\n",
      "INSERT INTO histori_pags (coduser, fech_pag, cant_Bf, fech_venc) VALUES (473, '2021-04-06', 100000, '2021-04-22')\n",
      "UPDATE datos_per SET fech_ing = '2021-04-06', fech_ven = '2021-04-22' WHERE coduser = 473\n",
      "UPDATE datos_red SET fech_pag = '2021-04-06' WHERE coduser = 452\n",
      "INSERT INTO histori_pags (coduser, fech_pag, cant_Bf, fech_venc) VALUES (452, '2021-04-06', 200000, '2021-05-07')\n",
      "UPDATE datos_per SET fech_ing = '2021-04-06', fech_ven = '2021-05-07' WHERE coduser = 452\n",
      "UPDATE datos_red SET fech_pag = '2021-03-23' WHERE coduser = 252\n",
      "INSERT INTO histori_pags (coduser, fech_pag, cant_Bf, fech_venc) VALUES (252, '2021-04-07', 100000, '2021-04-23')\n",
      "UPDATE datos_per SET fech_ing = '2021-04-07', fech_ven = '2021-04-23' WHERE coduser = 252\n"
     ]
    }
   ],
   "source": [
    "# Ojo hay que registrar el hash en db receptora para vefiricar que no este y ejecutar \n",
    "# query\n",
    "\n",
    "load_dotenv()\n",
    "\n",
    "sql_id = os.getenv(\"SQL_ID\")\n",
    "sql_pw = os.getenv(\"SQL_PW\")\n",
    "\n",
    "bischo = calcquerys(finalJson)\n",
    "\n",
    "\n",
    "for bis in bischo:\n",
    "# pendiente por probar\n",
    "     ok = conexion(bis)\n",
    "     print(bis + ok)\n"
   ]
  },
  {
   "cell_type": "code",
   "execution_count": 7,
   "metadata": {},
   "outputs": [
    {
     "data": {
      "text/plain": [
       "{'id': 1,\n",
       " 'fecha': '2021-05-04 12:53:19',\n",
       " 'instruccion': '{\"datos_red\":{\"op\":\"update\",\"set\":\" fech_pag=\\'2021-05-18\\' \",\"filtro\":\" coduser=\\'341\\'\"},\"histori_pags\":{\"op\":\"insert into\",\"set\":\"coduser, fech_pag, cant_bf, fech_venc, anfit, cod\",\"filtro\":\" (341, \\'2021-05-04\\', 200000, \\'2021-06-18\\', \\'192.168.45.221\\', \\'9460bc8a36a908bababe5b07c8b586a6\\')\"},\"datos_per\":{\"op\":\"update\",\"set\":\" fech_ing=\\'2021-05-04\\', fech_ven=\\'2021-06-18\\' \",\"filtro\":\" coduser=\\'341\\'\"}}',\n",
       " 'firma': '542a3ff0c859bd59942c10abee05b82b88ed0294'}"
      ]
     },
     "execution_count": 7,
     "metadata": {},
     "output_type": "execute_result"
    }
   ],
   "source": [
    "lea = finalJson[0]\n",
    "lea"
   ]
  },
  {
   "cell_type": "code",
   "execution_count": 13,
   "metadata": {},
   "outputs": [
    {
     "data": {
      "text/plain": [
       "{'datos_red': {'op': 'update',\n",
       "  'set': \" fech_pag='2021-05-18' \",\n",
       "  'filtro': \" coduser='341'\"},\n",
       " 'histori_pags': {'op': 'insert into',\n",
       "  'set': 'coduser, fech_pag, cant_bf, fech_venc, anfit, cod',\n",
       "  'filtro': \" (341, '2021-05-04', 200000, '2021-06-18', '192.168.45.221', '9460bc8a36a908bababe5b07c8b586a6')\"},\n",
       " 'datos_per': {'op': 'update',\n",
       "  'set': \" fech_ing='2021-05-04', fech_ven='2021-06-18' \",\n",
       "  'filtro': \" coduser='341'\"}}"
      ]
     },
     "execution_count": 13,
     "metadata": {},
     "output_type": "execute_result"
    }
   ],
   "source": [
    "json.loads(lea['instruccion'])\n"
   ]
  }
 ],
 "metadata": {
  "kernelspec": {
   "display_name": "Python 3",
   "language": "python",
   "name": "python3"
  },
  "language_info": {
   "codemirror_mode": {
    "name": "ipython",
    "version": 3
   },
   "file_extension": ".py",
   "mimetype": "text/x-python",
   "name": "python",
   "nbconvert_exporter": "python",
   "pygments_lexer": "ipython3",
   "version": "3.8.5"
  }
 },
 "nbformat": 4,
 "nbformat_minor": 2
}
