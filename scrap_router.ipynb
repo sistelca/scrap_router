{
 "cells": [
  {
   "cell_type": "code",
   "execution_count": 8,
   "metadata": {},
   "outputs": [],
   "source": [
    "import requests\n",
    "from urllib.parse import quote\n",
    "import base64\n",
    "import time\n",
    "from datetime import datetime"
   ]
  },
  {
   "cell_type": "code",
   "execution_count": 9,
   "metadata": {},
   "outputs": [],
   "source": [
    "class TippiLink:\n",
    "    def __init__(self, username, password, host=\"192.168.0.1\"):\n",
    "        self._username = username\n",
    "        self._password = password\n",
    "        self._host = host\n",
    "\n",
    "    def _get_headers(self):\n",
    "        headers = {\n",
    "            'Referer': 'http://%s/userRpm/MenuRpm.htm' % self._host,\n",
    "            'Authorization': self._auth_header(),\n",
    "        }\n",
    "        return headers\n",
    "\n",
    "    def _auth_header(self):\n",
    "        auth_bytes = bytes(self._username+':'+self._password, 'utf-8')\n",
    "        auth_b64_bytes = base64.b64encode(auth_bytes)\n",
    "        auth_b64_str = str(auth_b64_bytes, 'utf-8')\n",
    "\n",
    "        auth_str = quote('Basic {}'.format(auth_b64_str))\n",
    "        return auth_str\n",
    "    \n",
    "    def _get_mac_from_page(self, pageName):\n",
    "        \n",
    "        try:\n",
    "\n",
    "            response = requests.get('http://%s/userRpm/%s.htm' % (self._host, pageName), headers=self._get_headers())\n",
    "            content = response.content\n",
    "\n",
    "            ini = 'hostList = new Array('\n",
    "            fin = ');'\n",
    "            \n",
    "            # nuevo cod\n",
    "            texto = str(content)[str(content).index(ini)+len(ini)+2:].replace('\\\\n', '').replace(', 0,0 ', '')\n",
    "            texto = texto[:texto.index(fin)].replace('-', ':').lower()\n",
    "\n",
    "            lista = [l.replace(\"\\\"\", \"\").replace(\" \", \"\") for l in texto.split(',')]\n",
    "            nueva_lista = [lista[i:i+4] for i in range(0, len(lista), 4) if lista[i+1] in ['0', '1', '8']]\n",
    "\n",
    "            return nueva_lista\n",
    "        \n",
    "        except:\n",
    "            return \"Error\"\n",
    "    \n",
    "    def get_all_macs(self):\n",
    "        page = '1'\n",
    "        macs = []\n",
    "        mac_stat = []\n",
    "\n",
    "        while True:\n",
    "            arr_in = self._get_mac_from_page(\"WlanStationRpm.htm?Page=\"+page)\n",
    "            arr = [l[0] for l in arr_in]\n",
    "            page = str(int(page) + 1)\n",
    "\n",
    "            if set(arr).issubset(set(macs)):\n",
    "                break\n",
    "            else:\n",
    "                macs.extend(arr)\n",
    "                mac_stat.extend(arr_in)\n",
    "\n",
    "        mac_stat.sort(key=lambda x:int(x[2]), reverse=True)\n",
    "        macs = [m[0] for m in mac_stat]\n",
    "        return mac_stat #macs #\n",
    "    \n",
    "    def estadisticas(self):\n",
    "        now = datetime.now()\n",
    "        timestamp = datetime.timestamp(now)\n",
    "        ini = 'wlanHostPara = new Array('\n",
    "        ini1 = 'statistList = new Array('\n",
    "        fin = ');'\n",
    "\n",
    "        try:\n",
    "            # numero de conectados\n",
    "            nconx = len(self.get_all_macs())\n",
    "            \n",
    "            # enviados y recibidos\n",
    "            response = requests.get('http://%s/userRpm/%s.htm' % (self._host, 'StatusRpm.htm'), headers=tl._get_headers())\n",
    "            content = response.content\n",
    "            texto = str(content)[str(content).index(ini1)+len(ini1)+2:]\n",
    "            statistList = texto[:texto.index(fin)].split(',')\n",
    "\n",
    "            b_rec = statistList[0]\n",
    "            b_env = statistList[1]\n",
    "\n",
    "            return [timestamp, nconx, b_rec, b_env]\n",
    "        except:\n",
    "            return \"Error\"\n",
    "        \n",
    "    def restart_router(self):\n",
    "        params = (('Reboot', 'Reboot'),)\n",
    "        try:\n",
    "            res = requests.get('http://%s/userRpm/SysRebootRpm.htm' % self._host,\n",
    "                                headers=self._get_headers(), params=params)\n",
    "        except:\n",
    "            pass\n",
    "    "
   ]
  },
  {
   "cell_type": "code",
   "execution_count": 10,
   "metadata": {},
   "outputs": [],
   "source": [
    "# https://pypi.org/project/python-dotenv/\n",
    "from dotenv import load_dotenv\n",
    "import os\n",
    "\n",
    "load_dotenv()\n",
    "tplink_id = os.getenv(\"TPLINK_ID\")\n",
    "tplink_pw = os.getenv(\"TPLINK_SECRET\")\n",
    "\n",
    "tl = TippiLink(tplink_id, tplink_pw, \"192.168.66.32\")\n"
   ]
  },
  {
   "cell_type": "code",
   "execution_count": 11,
   "metadata": {},
   "outputs": [
    {
     "name": "stdout",
     "output_type": "stream",
     "text": [
      "[1618395770.950189, 21, '221407730', ' 669791596']\n"
     ]
    }
   ],
   "source": [
    "print(tl.estadisticas())"
   ]
  },
  {
   "cell_type": "code",
   "execution_count": 7,
   "metadata": {},
   "outputs": [
    {
     "data": {
      "text/plain": [
       "[['f8:1a:67:cf:ef:82', '8', '790416', '908017'],\n",
       " ['50:9e:a7:77:ff:0b', '1', '103433', '107175'],\n",
       " ['b8:ae:ed:44:29:7a', '1', '85315', '86354'],\n",
       " ['60:14:66:d0:6c:94', '1', '63322', '58840'],\n",
       " ['b8:ae:ed:e1:5f:3c', '1', '16762', '14493'],\n",
       " ['d4:72:26:01:92:cc', '1', '16533', '1972'],\n",
       " ['d4:c9:4b:a3:69:6e', '1', '12060', '1068'],\n",
       " ['20:2d:07:51:6d:aa', '1', '7112', '2401'],\n",
       " ['9c:a9:e4:f5:d4:89', '1', '4925', '4227'],\n",
       " ['b4:1c:30:fa:0b:33', '1', '2279', '1166'],\n",
       " ['c0:17:4d:a0:20:b5', '0', '1514', '1248'],\n",
       " ['94:27:90:5a:8b:e8', '1', '1054', '640'],\n",
       " ['ac:57:75:28:2a:bc', '1', '768', '175'],\n",
       " ['44:ad:19:04:46:7f', '1', '580', '177'],\n",
       " ['24:46:c8:f6:40:4a', '1', '519', '147'],\n",
       " ['f8:e0:79:0e:cd:4d', '1', '397', '25'],\n",
       " ['60:1d:91:48:b9:10', '1', '318', '46'],\n",
       " ['60:14:66:e3:9b:99', '1', '279', '220'],\n",
       " ['34:23:ba:72:64:ff', '1', '113', '91'],\n",
       " ['84:db:ac:73:67:bb', '1', '88', '50'],\n",
       " ['68:5a:cf:9d:15:fa', '1', '34', '19'],\n",
       " ['0c:ec:84:84:de:9b', '1', '11', '16'],\n",
       " ['64:88:ff:cf:38:9b', '0', '0', '4']]"
      ]
     },
     "execution_count": 7,
     "metadata": {},
     "output_type": "execute_result"
    }
   ],
   "source": [
    "tl.get_all_macs()"
   ]
  },
  {
   "cell_type": "markdown",
   "metadata": {},
   "source": [
    "Current Status - the connected wireless station's running status, one of \n",
    "STA-AUTH 0 \n",
    "STA-ASSOC 1 \n",
    "AP-UP 8 \n",
    "\n",
    "STA-JOINED / \n",
    "WPA / \n",
    "WPA-PSK / \n",
    "WPA2 / \n",
    "WPA2-PSK / \n",
    "\n",
    "AP-DOWN\n",
    "\n",
    "\n",
    "10 ?"
   ]
  }
 ],
 "metadata": {
  "kernelspec": {
   "display_name": "Python 3",
   "language": "python",
   "name": "python3"
  },
  "language_info": {
   "codemirror_mode": {
    "name": "ipython",
    "version": 3
   },
   "file_extension": ".py",
   "mimetype": "text/x-python",
   "name": "python",
   "nbconvert_exporter": "python",
   "pygments_lexer": "ipython3",
   "version": "3.8.5"
  }
 },
 "nbformat": 4,
 "nbformat_minor": 2
}
