{
 "cells": [
  {
   "cell_type": "code",
   "execution_count": 1,
   "metadata": {},
   "outputs": [],
   "source": [
    "import requests\n",
    "from urllib.parse import quote\n",
    "import base64\n",
    "import time\n",
    "from datetime import datetime"
   ]
  },
  {
   "cell_type": "code",
   "execution_count": 2,
   "metadata": {},
   "outputs": [],
   "source": [
    "class TippiLink:\n",
    "    def __init__(self, username, password, host=\"192.168.0.1\"):\n",
    "        self._username = username\n",
    "        self._password = password\n",
    "        self._host = host\n",
    "\n",
    "    def _get_headers(self):\n",
    "        headers = {\n",
    "            'Referer': 'http://%s/userRpm/MenuRpm.htm' % self._host,\n",
    "            'Authorization': self._auth_header(),\n",
    "        }\n",
    "        return headers\n",
    "\n",
    "    def _auth_header(self):\n",
    "        auth_bytes = bytes(self._username+':'+self._password, 'utf-8')\n",
    "        auth_b64_bytes = base64.b64encode(auth_bytes)\n",
    "        auth_b64_str = str(auth_b64_bytes, 'utf-8')\n",
    "\n",
    "        auth_str = quote('Basic {}'.format(auth_b64_str))\n",
    "        return auth_str\n",
    "    \n",
    "    def _get_mac_from_page(self, pageName):\n",
    "        \n",
    "        try:\n",
    "\n",
    "            response = requests.get('http://%s/userRpm/%s.htm' % (self._host, pageName), headers=self._get_headers())\n",
    "            content = response.content\n",
    "\n",
    "            ini = 'hostList = new Array('\n",
    "            fin = ');'\n",
    "            \n",
    "            # nuevo cod\n",
    "            texto = str(content)[str(content).index(ini)+len(ini)+2:].replace('\\\\n', '').replace(', 0,0 ', '')\n",
    "            texto = texto[:texto.index(fin)].replace('-', ':').lower()\n",
    "\n",
    "            lista = [l.replace(\"\\\"\", \"\").replace(\" \", \"\") for l in texto.split(',')]\n",
    "            nueva_lista = [lista[i:i+4] for i in range(0, len(lista), 4) if lista[i+1] in ['0', '1', '8']]\n",
    "\n",
    "            return nueva_lista\n",
    "        \n",
    "        except:\n",
    "            return \"Error\"\n",
    "    \n",
    "    def get_all_macs(self):\n",
    "        page = '1'\n",
    "        macs = []\n",
    "        mac_stat = []\n",
    "\n",
    "        while True:\n",
    "            arr_in = self._get_mac_from_page(\"WlanStationRpm.htm?Page=\"+page)\n",
    "            arr = [l[0] for l in arr_in]\n",
    "            page = str(int(page) + 1)\n",
    "\n",
    "            if set(arr).issubset(set(macs)):\n",
    "                break\n",
    "            else:\n",
    "                macs.extend(arr)\n",
    "                mac_stat.extend(arr_in)\n",
    "\n",
    "        mac_stat.sort(key=lambda x:int(x[2]), reverse=True)\n",
    "        macs = [m[0] for m in mac_stat]\n",
    "        return mac_stat #macs #\n",
    "    \n",
    "    def estadisticas(self):\n",
    "        now = datetime.now()\n",
    "        timestamp = datetime.timestamp(now)\n",
    "        ini = 'wlanHostPara = new Array('\n",
    "        ini1 = 'statistList = new Array('\n",
    "        fin = ');'\n",
    "\n",
    "        try:\n",
    "            # numero de conectados\n",
    "            nconx = len(self.get_all_macs())\n",
    "            \n",
    "            # enviados y recibidos\n",
    "            response = requests.get('http://%s/userRpm/%s.htm' % (self._host, 'StatusRpm.htm'), headers=tl._get_headers())\n",
    "            content = response.content\n",
    "            texto = str(content)[str(content).index(ini1)+len(ini1)+2:]\n",
    "            statistList = texto[:texto.index(fin)].split(',')\n",
    "\n",
    "            b_rec = statistList[0]\n",
    "            b_env = statistList[1]\n",
    "\n",
    "            return [timestamp, nconx, b_rec, b_env]\n",
    "        except:\n",
    "            return \"Error\"\n",
    "        \n",
    "    def restart_router(self):\n",
    "        params = (('Reboot', 'Reboot'),)\n",
    "        try:\n",
    "            res = requests.get('http://%s/userRpm/SysRebootRpm.htm' % self._host,\n",
    "                                headers=self._get_headers(), params=params)\n",
    "        except:\n",
    "            pass\n",
    "    "
   ]
  },
  {
   "cell_type": "code",
   "execution_count": 3,
   "metadata": {},
   "outputs": [],
   "source": [
    "# https://pypi.org/project/python-dotenv/\n",
    "from dotenv import load_dotenv\n",
    "import os\n",
    "\n",
    "load_dotenv()\n",
    "tplink_id = os.getenv(\"TPLINK_ID\")\n",
    "tplink_pw = os.getenv(\"TPLINK_SECRET\")\n",
    "\n",
    "tl = TippiLink(tplink_id, tplink_pw, \"192.168.66.18\")\n"
   ]
  },
  {
   "cell_type": "code",
   "execution_count": 4,
   "metadata": {},
   "outputs": [
    {
     "name": "stdout",
     "output_type": "stream",
     "text": [
      "[1613226917.920898, 5, '0', ' 1893530']\n"
     ]
    }
   ],
   "source": [
    "print(tl.estadisticas())"
   ]
  },
  {
   "cell_type": "code",
   "execution_count": 10,
   "metadata": {},
   "outputs": [
    {
     "data": {
      "text/plain": [
       "[['00:19:e0:a5:1f:20', '8', '1951193', '2395050'],\n",
       " ['78:40:e4:9c:4d:3b', '1', '804680', '828949'],\n",
       " ['b8:ae:ed:5e:0d:eb', '1', '342876', '363766'],\n",
       " ['b8:ae:ed:e7:a3:3e', '1', '130027', '113028'],\n",
       " ['40:72:02:39:03:3d', '1', '53557', '42556'],\n",
       " ['38:80:df:b4:fd:dd', '1', '50039', '52131'],\n",
       " ['00:11:0a:12:26:d3', '1', '18379', '13494'],\n",
       " ['b8:8a:60:2d:70:94', '1', '5796', '6109'],\n",
       " ['ec:1d:7f:80:bd:89', '1', '3775', '2367'],\n",
       " ['0c:ec:84:7c:8b:29', '1', '796', '616'],\n",
       " ['60:af:6d:6f:d8:49', '1', '4', '6']]"
      ]
     },
     "execution_count": 10,
     "metadata": {},
     "output_type": "execute_result"
    }
   ],
   "source": [
    "tl.get_all_macs()"
   ]
  },
  {
   "cell_type": "markdown",
   "metadata": {},
   "source": [
    "Current Status - the connected wireless station's running status, one of \n",
    "STA-AUTH 0 \n",
    "STA-ASSOC 1 \n",
    "AP-UP 8 \n",
    "\n",
    "STA-JOINED / \n",
    "WPA / \n",
    "WPA-PSK / \n",
    "WPA2 / \n",
    "WPA2-PSK / \n",
    "\n",
    "AP-DOWN\n",
    "\n",
    "\n",
    "10 ?"
   ]
  }
 ],
 "metadata": {
  "kernelspec": {
   "display_name": "Python 3",
   "language": "python",
   "name": "python3"
  },
  "language_info": {
   "codemirror_mode": {
    "name": "ipython",
    "version": 3
   },
   "file_extension": ".py",
   "mimetype": "text/x-python",
   "name": "python",
   "nbconvert_exporter": "python",
   "pygments_lexer": "ipython3",
   "version": "3.7.3"
  }
 },
 "nbformat": 4,
 "nbformat_minor": 2
}
