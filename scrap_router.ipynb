{
 "cells": [
  {
   "cell_type": "code",
   "execution_count": 1,
   "metadata": {},
   "outputs": [],
   "source": [
    "import requests\n",
    "from urllib.parse import quote\n",
    "import base64\n",
    "import re"
   ]
  },
  {
   "cell_type": "code",
   "execution_count": 82,
   "metadata": {},
   "outputs": [],
   "source": [
    "class TippiLink:\n",
    "    def __init__(self, username, password, host=\"192.168.0.1\"):\n",
    "        self._username = username\n",
    "        self._password = password\n",
    "        self._host = host\n",
    "\n",
    "    def _get_headers(self):\n",
    "        headers = {\n",
    "            'Referer': 'http://%s/userRpm/MenuRpm.htm' % self._host,\n",
    "            'Authorization': self._auth_header(),\n",
    "        }\n",
    "        return headers\n",
    "\n",
    "    def _auth_header(self):\n",
    "        auth_bytes = bytes(self._username+':'+self._password, 'utf-8')\n",
    "        auth_b64_bytes = base64.b64encode(auth_bytes)\n",
    "        auth_b64_str = str(auth_b64_bytes, 'utf-8')\n",
    "\n",
    "        auth_str = quote('Basic {}'.format(auth_b64_str))\n",
    "        return auth_str\n",
    "    \n",
    "    def _get_mac_from_page(self, pageName):\n",
    "\n",
    "        response = requests.get('http://%s/userRpm/%s.htm' % (self._host, pageName), headers=self._get_headers())\n",
    "\n",
    "        content = response.content\n",
    "        \n",
    "        ini = 'hostList = new Array('\n",
    "        fin = ');'\n",
    "\n",
    "        texto = str(content)[str(content).index(ini)+len(ini)+2:]\n",
    "        arrTx = texto[:texto.index(fin)].split(\"\\\"\")\n",
    "        \n",
    "        arr = [l for l in arrTx if len(l.split('-')) == 6]\n",
    "        \n",
    "        return arr\n",
    "        #return texto"
   ]
  },
  {
   "cell_type": "code",
   "execution_count": 83,
   "metadata": {},
   "outputs": [],
   "source": [
    "tl = TippiLink(\"luis\", \"AmE3024OT1\", \"192.168.66.32\")\n"
   ]
  },
  {
   "cell_type": "code",
   "execution_count": null,
   "metadata": {},
   "outputs": [],
   "source": [
    "response = requests.get('http://%s/userRpm/%s.htm' % (tl._host, 'StatusRpm.htm'), headers=tl._get_headers())\n",
    "\n",
    "content = response.content"
   ]
  },
  {
   "cell_type": "code",
   "execution_count": 92,
   "metadata": {},
   "outputs": [
    {
     "name": "stdout",
     "output_type": "stream",
     "text": [
      "Conex =   16\n"
     ]
    }
   ],
   "source": [
    "ini = 'wlanHostPara = new Array('\n",
    "fin = ');'\n",
    "\n",
    "response = requests.get('http://%s/userRpm/%s.htm' % (tl._host, 'WlanStationRpm.htm'), headers=tl._get_headers())\n",
    "content = response.content\n",
    "\n",
    "lista = str(content)[str(content).index(ini)+len(ini):str(content).index(fin)].replace('\\\\n', '').split(',')\n",
    "print('Conex = ', lista[5])"
   ]
  },
  {
   "cell_type": "code",
   "execution_count": 93,
   "metadata": {},
   "outputs": [
    {
     "name": "stdout",
     "output_type": "stream",
     "text": [
      "1 0 8\n",
      "2 8 8\n",
      "3 16 5\n",
      "4 21 5\n"
     ]
    },
    {
     "data": {
      "text/plain": [
       "21"
      ]
     },
     "execution_count": 93,
     "metadata": {},
     "output_type": "execute_result"
    }
   ],
   "source": [
    "page = '1'\n",
    "macs = []\n",
    "\n",
    "while True:\n",
    "    arr = tl._get_mac_from_page(\"WlanStationRpm.htm?Page=\"+page)\n",
    "    print(page, len(macs), len(arr))\n",
    "    page = str(int(page) + 1)\n",
    "\n",
    "    if set(arr).issubset(set(macs)):\n",
    "        break\n",
    "    else:\n",
    "        macs.extend(arr)\n",
    "\n",
    "mac_address = list(set(macs))\n",
    "\n",
    "mac_address = [mac.replace('-', ':').lower() for mac in mac_address]\n",
    "\n",
    "len(mac_address)"
   ]
  },
  {
   "cell_type": "code",
   "execution_count": 94,
   "metadata": {},
   "outputs": [
    {
     "data": {
      "text/plain": [
       "['bc:25:e0:92:da:4c',\n",
       " '60:14:66:d1:e5:5c',\n",
       " 'bc:44:86:90:fc:ca',\n",
       " '88:79:7e:11:cb:33',\n",
       " '00:91:10:74:01:74',\n",
       " '0c:ce:f6:6d:8f:3f',\n",
       " '64:88:ff:cf:38:9b',\n",
       " '94:27:90:5a:8b:e8',\n",
       " '02:8a:0f:01:78:59',\n",
       " '00:07:a8:98:e6:32',\n",
       " 'dc:d9:16:72:57:93',\n",
       " 'c0:d3:c0:52:f7:9b',\n",
       " 'f8:1a:67:cf:ef:82',\n",
       " '90:f6:52:e1:95:4e',\n",
       " '68:5a:cf:9d:15:fa',\n",
       " '60:1d:91:c1:8a:6a',\n",
       " '00:8a:0f:05:57:66',\n",
       " '20:64:32:7b:c8:cd',\n",
       " 'd0:5b:a8:05:81:f4',\n",
       " '40:3f:8c:4c:77:83',\n",
       " 'a8:c8:3a:75:22:0b']"
      ]
     },
     "execution_count": 94,
     "metadata": {},
     "output_type": "execute_result"
    }
   ],
   "source": [
    "mac_address"
   ]
  },
  {
   "cell_type": "code",
   "execution_count": 89,
   "metadata": {},
   "outputs": [
    {
     "data": {
      "text/plain": [
       "8"
      ]
     },
     "execution_count": 89,
     "metadata": {},
     "output_type": "execute_result"
    }
   ],
   "source": [
    "arr = tl._get_mac_from_page(\"WlanStationRpm.htm?Page=1\")\n",
    "len(arr)"
   ]
  },
  {
   "cell_type": "code",
   "execution_count": 5,
   "metadata": {},
   "outputs": [
    {
     "data": {
      "text/plain": [
       "['BC-98-DF-62-B0-D0',\n",
       " 'E8-D4-E0-A7-0B-43',\n",
       " '7C-D6-61-95-38-5C',\n",
       " 'BC-44-86-90-FC-CA',\n",
       " 'BC-98-DF-3D-79-8F',\n",
       " 'B4-1C-30-E5-70-65',\n",
       " '40-3F-8C-4C-77-83',\n",
       " 'F0-EE-10-14-8C-4E']"
      ]
     },
     "execution_count": 5,
     "metadata": {},
     "output_type": "execute_result"
    }
   ],
   "source": [
    "arr = tl._get_mac_from_page(\"WlanStationRpm.htm?Page=2\", \"hostList\")\n",
    "len(arr)"
   ]
  },
  {
   "cell_type": "code",
   "execution_count": 8,
   "metadata": {},
   "outputs": [
    {
     "data": {
      "text/plain": [
       "['BC-98-DF-43-D2-B5',\n",
       " '90-F6-52-E1-95-4E',\n",
       " 'B4-39-39-0B-9F-D1',\n",
       " 'FC-A6-21-36-63-DE',\n",
       " 'D0-04-01-04-9E-51',\n",
       " 'FC-2D-5E-CF-91-1B',\n",
       " 'C8-A8-23-1F-9F-0D']"
      ]
     },
     "execution_count": 8,
     "metadata": {},
     "output_type": "execute_result"
    }
   ],
   "source": [
    "arr = tl._get_mac_from_page(\"WlanStationRpm.htm?Page=3\", \"hostList\")\n",
    "len(arr)"
   ]
  },
  {
   "cell_type": "code",
   "execution_count": 9,
   "metadata": {},
   "outputs": [
    {
     "data": {
      "text/plain": [
       "['BC-98-DF-43-D2-B5',\n",
       " '90-F6-52-E1-95-4E',\n",
       " 'B4-39-39-0B-9F-D1',\n",
       " 'FC-A6-21-36-63-DE',\n",
       " 'D0-04-01-04-9E-51',\n",
       " 'FC-2D-5E-CF-91-1B',\n",
       " 'C8-A8-23-1F-9F-0D']"
      ]
     },
     "execution_count": 9,
     "metadata": {},
     "output_type": "execute_result"
    }
   ],
   "source": [
    "arr = tl._get_mac_from_page(\"WlanStationRpm.htm?Page=4\", \"hostList\")\n",
    "arr"
   ]
  },
  {
   "cell_type": "code",
   "execution_count": 15,
   "metadata": {},
   "outputs": [
    {
     "data": {
      "text/plain": [
       "True"
      ]
     },
     "execution_count": 15,
     "metadata": {},
     "output_type": "execute_result"
    }
   ],
   "source": [
    "len(arr) == len(set.union(set(arr1), set(arr)))"
   ]
  },
  {
   "cell_type": "code",
   "execution_count": null,
   "metadata": {},
   "outputs": [],
   "source": [
    "ini = 'wlanHostPara = new Array('\n",
    "fin = ');'"
   ]
  },
  {
   "cell_type": "code",
   "execution_count": null,
   "metadata": {},
   "outputs": [],
   "source": [
    "lista = str(content)[str(content).index(ini)+len(ini):str(content).index(fin)].replace('\\\\n', '').split(',')\n",
    "print(lista[5])"
   ]
  },
  {
   "cell_type": "code",
   "execution_count": null,
   "metadata": {},
   "outputs": [],
   "source": [
    "from bs4 import BeautifulSoup"
   ]
  },
  {
   "cell_type": "code",
   "execution_count": null,
   "metadata": {},
   "outputs": [],
   "source": [
    "soup = BeautifulSoup(content, \"html.parser\")"
   ]
  },
  {
   "cell_type": "code",
   "execution_count": null,
   "metadata": {},
   "outputs": [],
   "source": [
    "soup"
   ]
  },
  {
   "cell_type": "code",
   "execution_count": null,
   "metadata": {},
   "outputs": [],
   "source": [
    "content"
   ]
  }
 ],
 "metadata": {
  "kernelspec": {
   "display_name": "Python 3",
   "language": "python",
   "name": "python3"
  },
  "language_info": {
   "codemirror_mode": {
    "name": "ipython",
    "version": 3
   },
   "file_extension": ".py",
   "mimetype": "text/x-python",
   "name": "python",
   "nbconvert_exporter": "python",
   "pygments_lexer": "ipython3",
   "version": "3.7.3"
  }
 },
 "nbformat": 4,
 "nbformat_minor": 2
}
