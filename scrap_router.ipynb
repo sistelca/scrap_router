{
 "cells": [
  {
   "cell_type": "code",
   "execution_count": 25,
   "metadata": {},
   "outputs": [],
   "source": [
    "import requests\n",
    "from urllib.parse import quote\n",
    "import base64\n",
    "import time\n",
    "from datetime import datetime"
   ]
  },
  {
   "cell_type": "code",
   "execution_count": 42,
   "metadata": {},
   "outputs": [],
   "source": [
    "class TippiLink:\n",
    "    def __init__(self, username, password, host=\"192.168.0.1\"):\n",
    "        self._username = username\n",
    "        self._password = password\n",
    "        self._host = host\n",
    "\n",
    "    def _get_headers(self):\n",
    "        headers = {\n",
    "            'Referer': 'http://%s/userRpm/MenuRpm.htm' % self._host,\n",
    "            'Authorization': self._auth_header(),\n",
    "        }\n",
    "        return headers\n",
    "\n",
    "    def _auth_header(self):\n",
    "        auth_bytes = bytes(self._username+':'+self._password, 'utf-8')\n",
    "        auth_b64_bytes = base64.b64encode(auth_bytes)\n",
    "        auth_b64_str = str(auth_b64_bytes, 'utf-8')\n",
    "\n",
    "        auth_str = quote('Basic {}'.format(auth_b64_str))\n",
    "        return auth_str\n",
    "    \n",
    "    def _get_mac_from_page(self, pageName):\n",
    "        \n",
    "        try:\n",
    "\n",
    "            response = requests.get('http://%s/userRpm/%s.htm' % (self._host, pageName), headers=self._get_headers())\n",
    "            content = response.content\n",
    "\n",
    "            ini = 'hostList = new Array('\n",
    "            fin = ');'\n",
    "\n",
    "            texto = str(content)[str(content).index(ini)+len(ini)+2:]\n",
    "            arrTx = texto[:texto.index(fin)].split(\"\\\"\")\n",
    "            arr = [l for l in arrTx if len(l.split('-')) == 6]\n",
    "\n",
    "            return arr\n",
    "        \n",
    "        except:\n",
    "            return \"Error\"\n",
    "    \n",
    "    def get_all_macs(self):\n",
    "        page = '1'\n",
    "        macs = []\n",
    "\n",
    "        while True:\n",
    "            arr = self._get_mac_from_page(\"WlanStationRpm.htm?Page=\"+page)\n",
    "            page = str(int(page) + 1)\n",
    "\n",
    "            if set(arr).issubset(set(macs)):\n",
    "                break\n",
    "            else:\n",
    "                macs.extend(arr)\n",
    "\n",
    "        mac_address = list(set(macs))\n",
    "\n",
    "        mac_address = [mac.replace('-', ':').lower() for mac in mac_address]\n",
    "\n",
    "        return mac_address\n",
    "    \n",
    "    def estadisticas(self):\n",
    "        now = datetime.now()\n",
    "        timestamp = datetime.timestamp(now)\n",
    "        ini = 'wlanHostPara = new Array('\n",
    "        ini1 = 'statistList = new Array('\n",
    "        fin = ');'\n",
    "\n",
    "        try:\n",
    "            # numero de conectados\n",
    "            response = requests.get('http://%s/userRpm/%s.htm' % (tl._host, 'WlanStationRpm.htm'), headers=tl._get_headers())\n",
    "            content = response.content\n",
    "            lista = str(content)[str(content).index(ini)+len(ini):str(content).index(fin)].replace('\\\\n', '').split(',')\n",
    "            nconx = lista[5]\n",
    "\n",
    "            # enviados y recibidos\n",
    "            response = requests.get('http://%s/userRpm/%s.htm' % (tl._host, 'StatusRpm.htm'), headers=tl._get_headers())\n",
    "            content = response.content\n",
    "            texto = str(content)[str(content).index(ini1)+len(ini1)+2:]\n",
    "            statistList = texto[:texto.index(fin)].split(',')\n",
    "\n",
    "            b_rec = statistList[0]\n",
    "            b_env = statistList[1]\n",
    "            \n",
    "            return [timestamp, nconx, b_rec, b_env]\n",
    "        except:\n",
    "            return \"Error\"\n",
    "        \n",
    "    def restart_router(self):\n",
    "        params = (('Reboot', 'Reboot'),)\n",
    "        try:\n",
    "            res = requests.get('http://%s/userRpm/SysRebootRpm.htm' % self._host,\n",
    "                                headers=self._get_headers(), params=params)\n",
    "        except:\n",
    "            pass\n",
    "    "
   ]
  },
  {
   "cell_type": "code",
   "execution_count": 40,
   "metadata": {},
   "outputs": [],
   "source": [
    "tl = TippiLink(\"luis\", \"AmE3024OT1\", \"192.168.66.32\")\n"
   ]
  },
  {
   "cell_type": "code",
   "execution_count": 41,
   "metadata": {},
   "outputs": [
    {
     "name": "stdout",
     "output_type": "stream",
     "text": [
      "[' 23', '90849820', ' 182616454']\n"
     ]
    }
   ],
   "source": [
    "print(tl.estadisticas())"
   ]
  },
  {
   "cell_type": "code",
   "execution_count": 32,
   "metadata": {},
   "outputs": [
    {
     "data": {
      "text/plain": [
       "['d0:7a:b5:dc:29:63',\n",
       " '80:71:7a:eb:57:43',\n",
       " 'd0:5b:a8:05:81:f4',\n",
       " 'dc:bf:e9:b4:0d:19',\n",
       " '50:c8:e5:c7:34:8b',\n",
       " '3c:05:18:38:6c:b9',\n",
       " '58:d9:c3:33:d0:f9',\n",
       " 'fc:a6:21:36:63:de',\n",
       " 'c0:3f:d5:d9:b4:49',\n",
       " 'b8:94:36:5f:52:40',\n",
       " '80:fd:7a:81:3f:c4',\n",
       " 'bc:44:86:90:fc:ca',\n",
       " '94:27:90:c8:7a:c9',\n",
       " 'f8:1a:67:cf:ef:82',\n",
       " '94:27:90:5a:8b:e8',\n",
       " '74:5c:9f:09:a9:a6',\n",
       " '90:f6:52:e1:95:4e',\n",
       " '60:1d:91:70:0f:1a',\n",
       " '86:35:f1:c3:f3:ea',\n",
       " '20:64:32:7b:c8:cd',\n",
       " '80:5a:04:dc:32:4d',\n",
       " '60:14:66:d0:6c:94',\n",
       " 'a2:01:3d:d1:f2:33',\n",
       " '1c:56:fe:be:59:97',\n",
       " '00:0c:e7:70:05:a4',\n",
       " 'a0:28:ed:6c:ce:0a',\n",
       " '38:80:df:b4:fd:dd',\n",
       " '00:8a:0f:05:57:66',\n",
       " '5c:77:76:fd:ec:6e',\n",
       " '60:14:66:d0:6f:fe',\n",
       " 'fc:a6:21:5e:a1:12']"
      ]
     },
     "execution_count": 32,
     "metadata": {},
     "output_type": "execute_result"
    }
   ],
   "source": [
    "tl.get_all_macs()"
   ]
  }
 ],
 "metadata": {
  "kernelspec": {
   "display_name": "Python 3",
   "language": "python",
   "name": "python3"
  },
  "language_info": {
   "codemirror_mode": {
    "name": "ipython",
    "version": 3
   },
   "file_extension": ".py",
   "mimetype": "text/x-python",
   "name": "python",
   "nbconvert_exporter": "python",
   "pygments_lexer": "ipython3",
   "version": "3.7.3"
  }
 },
 "nbformat": 4,
 "nbformat_minor": 2
}
