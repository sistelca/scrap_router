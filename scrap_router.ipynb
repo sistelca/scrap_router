{
 "cells": [
  {
   "cell_type": "code",
   "execution_count": 1,
   "metadata": {},
   "outputs": [],
   "source": [
    "import requests\n",
    "from urllib.parse import quote\n",
    "import base64\n",
    "import re"
   ]
  },
  {
   "cell_type": "code",
   "execution_count": 12,
   "metadata": {},
   "outputs": [],
   "source": [
    "class TippiLink:\n",
    "    def __init__(self, username, password, host=\"192.168.0.1\"):\n",
    "        self._username = username\n",
    "        self._password = password\n",
    "        self._host = host\n",
    "\n",
    "    def _get_headers(self):\n",
    "        headers = {\n",
    "            'Referer': 'http://%s/userRpm/MenuRpm.htm' % self._host,\n",
    "            'Authorization': self._auth_header(),\n",
    "        }\n",
    "        return headers\n",
    "\n",
    "    def _auth_header(self):\n",
    "        auth_bytes = bytes(self._username+':'+self._password, 'utf-8')\n",
    "        auth_b64_bytes = base64.b64encode(auth_bytes)\n",
    "        auth_b64_str = str(auth_b64_bytes, 'utf-8')\n",
    "\n",
    "        auth_str = quote('Basic {}'.format(auth_b64_str))\n",
    "        return auth_str\n",
    "    \n",
    "    def _get_mac_from_page(self, pageName):\n",
    "\n",
    "        response = requests.get('http://%s/userRpm/%s.htm' % (self._host, pageName), headers=self._get_headers())\n",
    "\n",
    "        content = response.content\n",
    "        \n",
    "        ini = 'hostList = new Array('\n",
    "        fin = ');'\n",
    "\n",
    "        texto = str(content)[str(content).index(ini)+len(ini)+2:]\n",
    "        arrTx = texto[:texto.index(fin)].split(\"\\\"\")\n",
    "        \n",
    "        arr = [l for l in arrTx if len(l.split('-')) == 6]\n",
    "        \n",
    "        return arr\n",
    "    \n",
    "    def _get_all_macs(self):\n",
    "        page = '1'\n",
    "        macs = []\n",
    "\n",
    "        while True:\n",
    "            arr = tl._get_mac_from_page(\"WlanStationRpm.htm?Page=\"+page)\n",
    "            page = str(int(page) + 1)\n",
    "\n",
    "            if set(arr).issubset(set(macs)):\n",
    "                break\n",
    "            else:\n",
    "                macs.extend(arr)\n",
    "\n",
    "        mac_address = list(set(macs))\n",
    "\n",
    "        mac_address = [mac.replace('-', ':').lower() for mac in mac_address]\n",
    "\n",
    "        return mac_address"
   ]
  },
  {
   "cell_type": "code",
   "execution_count": 13,
   "metadata": {},
   "outputs": [],
   "source": [
    "tl = TippiLink(\"luis\", \"AmE3024OT1\", \"192.168.66.32\")\n"
   ]
  },
  {
   "cell_type": "code",
   "execution_count": 4,
   "metadata": {},
   "outputs": [],
   "source": [
    "response = requests.get('http://%s/userRpm/%s.htm' % (tl._host, 'StatusRpm.htm'), headers=tl._get_headers())\n",
    "\n",
    "content = response.content"
   ]
  },
  {
   "cell_type": "code",
   "execution_count": 5,
   "metadata": {},
   "outputs": [
    {
     "name": "stdout",
     "output_type": "stream",
     "text": [
      "Conex =   18\n"
     ]
    }
   ],
   "source": [
    "ini = 'wlanHostPara = new Array('\n",
    "fin = ');'\n",
    "\n",
    "response = requests.get('http://%s/userRpm/%s.htm' % (tl._host, 'WlanStationRpm.htm'), headers=tl._get_headers())\n",
    "content = response.content\n",
    "\n",
    "lista = str(content)[str(content).index(ini)+len(ini):str(content).index(fin)].replace('\\\\n', '').split(',')\n",
    "print('Conex = ', lista[5])"
   ]
  },
  {
   "cell_type": "code",
   "execution_count": 14,
   "metadata": {},
   "outputs": [
    {
     "data": {
      "text/plain": [
       "['c0:17:4d:82:6d:3c',\n",
       " '40:3f:8c:4c:77:83',\n",
       " '54:ef:92:41:c1:db',\n",
       " 'b4:1c:30:e2:bf:fe',\n",
       " '0c:72:d9:5c:37:57',\n",
       " '26:4d:b0:84:02:23',\n",
       " '80:9b:20:db:f5:c0',\n",
       " '44:6d:57:df:38:87',\n",
       " 'bc:98:df:6d:17:33',\n",
       " '00:0c:e7:70:05:a4',\n",
       " 'b8:ae:ed:46:8d:b2',\n",
       " '0c:ec:84:84:de:9b',\n",
       " 'bc:44:86:90:fc:ca',\n",
       " 'a8:51:5b:e3:4e:f6',\n",
       " 'e0:76:0c:6a:c9:25',\n",
       " 'a2:01:3d:d1:f2:33',\n",
       " '88:79:7e:11:cb:33',\n",
       " 'a8:a6:68:15:86:f2',\n",
       " '44:55:c4:fc:7a:30',\n",
       " 'f8:1a:67:cf:ef:82',\n",
       " '70:ec:e4:13:b4:3c',\n",
       " 'bc:98:df:62:b0:d0',\n",
       " '74:59:09:1c:28:3a',\n",
       " 'b8:8a:60:36:27:08',\n",
       " 'b8:ae:ed:e4:3d:27',\n",
       " '0c:ce:f6:8a:a5:c7',\n",
       " '0c:cb:85:a5:2b:67',\n",
       " 'd0:5b:a8:05:81:f4',\n",
       " '30:6a:85:5a:43:c2',\n",
       " 'bc:98:df:43:d2:b5',\n",
       " '90:f6:52:e1:95:4e',\n",
       " '94:27:90:5a:8b:e8',\n",
       " '00:72:0d:39:51:da',\n",
       " '00:91:10:74:01:74',\n",
       " 'c0:17:4d:a0:20:b5',\n",
       " '9c:4f:cf:c3:b8:2b']"
      ]
     },
     "execution_count": 14,
     "metadata": {},
     "output_type": "execute_result"
    }
   ],
   "source": [
    "tl._get_all_macs()"
   ]
  }
 ],
 "metadata": {
  "kernelspec": {
   "display_name": "Python 3",
   "language": "python",
   "name": "python3"
  },
  "language_info": {
   "codemirror_mode": {
    "name": "ipython",
    "version": 3
   },
   "file_extension": ".py",
   "mimetype": "text/x-python",
   "name": "python",
   "nbconvert_exporter": "python",
   "pygments_lexer": "ipython3",
   "version": "3.7.3"
  }
 },
 "nbformat": 4,
 "nbformat_minor": 2
}
