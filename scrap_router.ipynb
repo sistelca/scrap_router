{
 "cells": [
  {
   "cell_type": "code",
   "execution_count": 1,
   "metadata": {},
   "outputs": [],
   "source": [
    "import requests\n",
    "from urllib.parse import quote\n",
    "import base64\n",
    "import time\n",
    "from datetime import datetime"
   ]
  },
  {
   "cell_type": "code",
   "execution_count": 2,
   "metadata": {},
   "outputs": [],
   "source": [
    "class TippiLink:\n",
    "    def __init__(self, username, password, host=\"192.168.0.1\"):\n",
    "        self._username = username\n",
    "        self._password = password\n",
    "        self._host = host\n",
    "\n",
    "    def _get_headers(self):\n",
    "        headers = {\n",
    "            'Referer': 'http://%s/userRpm/MenuRpm.htm' % self._host,\n",
    "            'Authorization': self._auth_header(),\n",
    "        }\n",
    "        return headers\n",
    "\n",
    "    def _auth_header(self):\n",
    "        auth_bytes = bytes(self._username+':'+self._password, 'utf-8')\n",
    "        auth_b64_bytes = base64.b64encode(auth_bytes)\n",
    "        auth_b64_str = str(auth_b64_bytes, 'utf-8')\n",
    "\n",
    "        auth_str = quote('Basic {}'.format(auth_b64_str))\n",
    "        return auth_str\n",
    "    \n",
    "    def _get_mac_from_page(self, pageName):\n",
    "        \n",
    "        try:\n",
    "\n",
    "            response = requests.get('http://%s/userRpm/%s.htm' % (self._host, pageName), headers=self._get_headers())\n",
    "            content = response.content\n",
    "\n",
    "            ini = 'hostList = new Array('\n",
    "            fin = ');'\n",
    "\n",
    "            texto = str(content)[str(content).index(ini)+len(ini)+2:]\n",
    "            arrTx = texto[:texto.index(fin)].split(\"\\\"\")\n",
    "            arr = [l for l in arrTx if len(l.split('-')) == 6]\n",
    "\n",
    "            return arr\n",
    "        \n",
    "        except:\n",
    "            return \"Error\"\n",
    "    \n",
    "    def get_all_macs(self):\n",
    "        page = '1'\n",
    "        macs = []\n",
    "\n",
    "        while True:\n",
    "            arr = self._get_mac_from_page(\"WlanStationRpm.htm?Page=\"+page)\n",
    "            page = str(int(page) + 1)\n",
    "\n",
    "            if set(arr).issubset(set(macs)):\n",
    "                break\n",
    "            else:\n",
    "                macs.extend(arr)\n",
    "\n",
    "        mac_address = list(set(macs))\n",
    "\n",
    "        mac_address = [mac.replace('-', ':').lower() for mac in mac_address]\n",
    "\n",
    "        return mac_address\n",
    "    \n",
    "    def estadisticas(self):\n",
    "        now = datetime.now()\n",
    "        timestamp = datetime.timestamp(now)\n",
    "        ini = 'wlanHostPara = new Array('\n",
    "        ini1 = 'statistList = new Array('\n",
    "        fin = ');'\n",
    "\n",
    "        try:\n",
    "            # numero de conectados\n",
    "            response = requests.get('http://%s/userRpm/%s.htm' % (tl._host, 'WlanStationRpm.htm'), headers=tl._get_headers())\n",
    "            content = response.content\n",
    "            lista = str(content)[str(content).index(ini)+len(ini):str(content).index(fin)].replace('\\\\n', '').split(',')\n",
    "            nconx = lista[5]\n",
    "\n",
    "            # enviados y recibidos\n",
    "            response = requests.get('http://%s/userRpm/%s.htm' % (tl._host, 'StatusRpm.htm'), headers=tl._get_headers())\n",
    "            content = response.content\n",
    "            texto = str(content)[str(content).index(ini1)+len(ini1)+2:]\n",
    "            statistList = texto[:texto.index(fin)].split(',')\n",
    "\n",
    "            b_rec = statistList[0]\n",
    "            b_env = statistList[1]\n",
    "            \n",
    "            return [timestamp, nconx, b_rec, b_env]\n",
    "        except:\n",
    "            return \"Error\"\n",
    "        \n",
    "    def restart_router(self):\n",
    "        params = (('Reboot', 'Reboot'),)\n",
    "        try:\n",
    "            res = requests.get('http://%s/userRpm/SysRebootRpm.htm' % self._host,\n",
    "                                headers=self._get_headers(), params=params)\n",
    "        except:\n",
    "            pass\n",
    "    "
   ]
  },
  {
   "cell_type": "code",
   "execution_count": 3,
   "metadata": {},
   "outputs": [],
   "source": [
    "# https://pypi.org/project/python-dotenv/\n",
    "from dotenv import load_dotenv\n",
    "import os\n",
    "\n",
    "load_dotenv()\n",
    "tplink_id = os.getenv(\"TPLINK_ID\")\n",
    "tplink_pw = os.getenv(\"TPLINK_SECRET\")\n",
    "\n",
    "tl = TippiLink(tplink_id, tplink_pw, \"192.168.66.32\")\n"
   ]
  },
  {
   "cell_type": "code",
   "execution_count": 4,
   "metadata": {},
   "outputs": [
    {
     "name": "stdout",
     "output_type": "stream",
     "text": [
      "[1612705879.520507, ' 23', '151106479', ' 411486075']\n"
     ]
    }
   ],
   "source": [
    "print(tl.estadisticas())"
   ]
  },
  {
   "cell_type": "code",
   "execution_count": 5,
   "metadata": {},
   "outputs": [
    {
     "data": {
      "text/plain": [
       "['20:64:32:7b:c8:cd',\n",
       " 'e4:c8:01:c9:60:50',\n",
       " '80:5a:04:dc:32:4d',\n",
       " 'a2:01:3d:d1:f2:33',\n",
       " '1c:56:fe:be:59:97',\n",
       " '8c:c5:e1:dd:73:83',\n",
       " '94:27:90:5a:8b:e8',\n",
       " '60:14:66:66:ef:71',\n",
       " 'bc:44:86:90:fc:ca',\n",
       " '00:8a:0f:05:57:66',\n",
       " '00:91:10:71:66:95',\n",
       " 'e0:cc:f8:38:16:9d',\n",
       " 'dc:44:b6:c5:9c:cf',\n",
       " 'b4:1c:30:fa:e2:c6',\n",
       " '60:14:66:72:bc:03',\n",
       " '0e:1a:38:98:5c:0b',\n",
       " '80:9b:20:9f:dc:58',\n",
       " 'f8:1a:67:cf:ef:82',\n",
       " '00:91:10:74:01:74',\n",
       " '04:79:70:8a:fc:48',\n",
       " '44:6d:57:df:38:87',\n",
       " 'bc:98:df:79:a3:75',\n",
       " '0c:2c:54:58:c3:6f',\n",
       " '80:9b:20:db:f5:c0',\n",
       " '90:f6:52:e1:95:4e',\n",
       " 'd4:c9:4b:37:8e:fa',\n",
       " 'b0:e0:3c:0f:11:42',\n",
       " 'd4:72:26:0c:c2:83',\n",
       " '60:14:66:d0:6c:94',\n",
       " '86:35:f1:c4:37:f3',\n",
       " '9c:2a:83:75:e8:79']"
      ]
     },
     "execution_count": 5,
     "metadata": {},
     "output_type": "execute_result"
    }
   ],
   "source": [
    "tl.get_all_macs()"
   ]
  }
 ],
 "metadata": {
  "kernelspec": {
   "display_name": "Python 3",
   "language": "python",
   "name": "python3"
  },
  "language_info": {
   "codemirror_mode": {
    "name": "ipython",
    "version": 3
   },
   "file_extension": ".py",
   "mimetype": "text/x-python",
   "name": "python",
   "nbconvert_exporter": "python",
   "pygments_lexer": "ipython3",
   "version": "3.7.3"
  }
 },
 "nbformat": 4,
 "nbformat_minor": 2
}
